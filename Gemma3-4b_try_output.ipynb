{
 "cells": [
  {
   "metadata": {},
   "cell_type": "markdown",
   "source": "# 模型下載",
   "id": "fdc9fecea3e65c70"
  },
  {
   "cell_type": "code",
   "id": "initial_id",
   "metadata": {
    "collapsed": true,
    "ExecuteTime": {
     "end_time": "2025-08-03T09:37:14.776396Z",
     "start_time": "2025-08-03T09:37:12.058272Z"
    }
   },
   "source": [
    "import time\n",
    "from os import times\n",
    "\n",
    "from transformers import AutoProcessor, Gemma3ForConditionalGeneration\n",
    "import torch\n",
    "import os"
   ],
   "outputs": [
    {
     "name": "stderr",
     "output_type": "stream",
     "text": [
      "/usr/local/lib/python3.10/dist-packages/tqdm/auto.py:21: TqdmWarning: IProgress not found. Please update jupyter and ipywidgets. See https://ipywidgets.readthedocs.io/en/stable/user_install.html\n",
      "  from .autonotebook import tqdm as notebook_tqdm\n"
     ]
    }
   ],
   "execution_count": 1
  },
  {
   "metadata": {
    "ExecuteTime": {
     "end_time": "2025-08-03T09:37:17.486792Z",
     "start_time": "2025-08-03T09:37:17.275579Z"
    }
   },
   "cell_type": "code",
   "source": "torch.cuda.get_device_name()",
   "id": "854064969aa01769",
   "outputs": [
    {
     "data": {
      "text/plain": [
       "'NVIDIA GeForce RTX 3090'"
      ]
     },
     "execution_count": 2,
     "metadata": {},
     "output_type": "execute_result"
    }
   ],
   "execution_count": 2
  },
  {
   "metadata": {
    "ExecuteTime": {
     "end_time": "2025-04-09T05:17:58.046043Z",
     "start_time": "2025-04-09T05:17:58.044837Z"
    }
   },
   "cell_type": "code",
   "source": "",
   "id": "a65e2077680358ed",
   "outputs": [],
   "execution_count": 3
  },
  {
   "metadata": {
    "ExecuteTime": {
     "end_time": "2025-08-03T09:37:35.092135Z",
     "start_time": "2025-08-03T09:37:26.181561Z"
    }
   },
   "cell_type": "code",
   "source": [
    "model_id = \"google/gemma-3-4b-it\"\n",
    "\n",
    "model = Gemma3ForConditionalGeneration.from_pretrained(\n",
    "    model_id, device_map=\"auto\", output_hidden_states=True, output_attentions=True\n",
    ").eval()\n",
    "\n",
    "processor = AutoProcessor.from_pretrained(model_id)"
   ],
   "id": "6ca2a4ffaf3ee79e",
   "outputs": [
    {
     "name": "stderr",
     "output_type": "stream",
     "text": [
      "The following generation flags are not valid and may be ignored: ['output_attentions', 'output_hidden_states']. Set `TRANSFORMERS_VERBOSITY=info` for more details.\n",
      "The following generation flags are not valid and may be ignored: ['output_attentions', 'output_hidden_states']. Set `TRANSFORMERS_VERBOSITY=info` for more details.\n",
      "Loading checkpoint shards: 100%|██████████| 2/2 [00:01<00:00,  1.07it/s]\n",
      "The following generation flags are not valid and may be ignored: ['output_attentions', 'output_hidden_states']. Set `TRANSFORMERS_VERBOSITY=info` for more details.\n",
      "The following generation flags are not valid and may be ignored: ['output_attentions', 'output_hidden_states']. Set `TRANSFORMERS_VERBOSITY=info` for more details.\n",
      "Using a slow image processor as `use_fast` is unset and a slow processor was saved with this model. `use_fast=True` will be the default behavior in v4.52, even if the model was saved with a slow processor. This will result in minor differences in outputs. You'll still be able to use a slow processor with `use_fast=False`.\n"
     ]
    }
   ],
   "execution_count": 3
  },
  {
   "metadata": {
    "ExecuteTime": {
     "end_time": "2025-08-03T09:16:16.642431Z",
     "start_time": "2025-08-03T09:16:16.639530Z"
    }
   },
   "cell_type": "code",
   "source": "os.environ['CUDA_LAUNCH_BLOCKING'] = '1'",
   "id": "5d44f234d0b5b06",
   "outputs": [],
   "execution_count": 6
  },
  {
   "metadata": {
    "ExecuteTime": {
     "end_time": "2025-08-03T09:16:18.146084Z",
     "start_time": "2025-08-03T09:16:18.143362Z"
    }
   },
   "cell_type": "code",
   "source": "torch.cuda.empty_cache()",
   "id": "4bbf9b1256eb7935",
   "outputs": [],
   "execution_count": 7
  },
  {
   "metadata": {
    "ExecuteTime": {
     "end_time": "2025-08-03T09:37:46.886714Z",
     "start_time": "2025-08-03T09:37:46.871058Z"
    }
   },
   "cell_type": "code",
   "source": "model.cuda()",
   "id": "b949526355761d79",
   "outputs": [
    {
     "data": {
      "text/plain": [
       "Gemma3ForConditionalGeneration(\n",
       "  (model): Gemma3Model(\n",
       "    (vision_tower): SiglipVisionModel(\n",
       "      (vision_model): SiglipVisionTransformer(\n",
       "        (embeddings): SiglipVisionEmbeddings(\n",
       "          (patch_embedding): Conv2d(3, 1152, kernel_size=(14, 14), stride=(14, 14), padding=valid)\n",
       "          (position_embedding): Embedding(4096, 1152)\n",
       "        )\n",
       "        (encoder): SiglipEncoder(\n",
       "          (layers): ModuleList(\n",
       "            (0-26): 27 x SiglipEncoderLayer(\n",
       "              (layer_norm1): LayerNorm((1152,), eps=1e-06, elementwise_affine=True)\n",
       "              (self_attn): SiglipAttention(\n",
       "                (k_proj): Linear(in_features=1152, out_features=1152, bias=True)\n",
       "                (v_proj): Linear(in_features=1152, out_features=1152, bias=True)\n",
       "                (q_proj): Linear(in_features=1152, out_features=1152, bias=True)\n",
       "                (out_proj): Linear(in_features=1152, out_features=1152, bias=True)\n",
       "              )\n",
       "              (layer_norm2): LayerNorm((1152,), eps=1e-06, elementwise_affine=True)\n",
       "              (mlp): SiglipMLP(\n",
       "                (activation_fn): PytorchGELUTanh()\n",
       "                (fc1): Linear(in_features=1152, out_features=4304, bias=True)\n",
       "                (fc2): Linear(in_features=4304, out_features=1152, bias=True)\n",
       "              )\n",
       "            )\n",
       "          )\n",
       "        )\n",
       "        (post_layernorm): LayerNorm((1152,), eps=1e-06, elementwise_affine=True)\n",
       "      )\n",
       "    )\n",
       "    (multi_modal_projector): Gemma3MultiModalProjector(\n",
       "      (mm_soft_emb_norm): Gemma3RMSNorm((1152,), eps=1e-06)\n",
       "      (avg_pool): AvgPool2d(kernel_size=4, stride=4, padding=0)\n",
       "    )\n",
       "    (language_model): Gemma3TextModel(\n",
       "      (embed_tokens): Gemma3TextScaledWordEmbedding(262208, 2560, padding_idx=0)\n",
       "      (layers): ModuleList(\n",
       "        (0-33): 34 x Gemma3DecoderLayer(\n",
       "          (self_attn): Gemma3Attention(\n",
       "            (q_proj): Linear(in_features=2560, out_features=2048, bias=False)\n",
       "            (k_proj): Linear(in_features=2560, out_features=1024, bias=False)\n",
       "            (v_proj): Linear(in_features=2560, out_features=1024, bias=False)\n",
       "            (o_proj): Linear(in_features=2048, out_features=2560, bias=False)\n",
       "            (q_norm): Gemma3RMSNorm((256,), eps=1e-06)\n",
       "            (k_norm): Gemma3RMSNorm((256,), eps=1e-06)\n",
       "          )\n",
       "          (mlp): Gemma3MLP(\n",
       "            (gate_proj): Linear(in_features=2560, out_features=10240, bias=False)\n",
       "            (up_proj): Linear(in_features=2560, out_features=10240, bias=False)\n",
       "            (down_proj): Linear(in_features=10240, out_features=2560, bias=False)\n",
       "            (act_fn): PytorchGELUTanh()\n",
       "          )\n",
       "          (input_layernorm): Gemma3RMSNorm((2560,), eps=1e-06)\n",
       "          (post_attention_layernorm): Gemma3RMSNorm((2560,), eps=1e-06)\n",
       "          (pre_feedforward_layernorm): Gemma3RMSNorm((2560,), eps=1e-06)\n",
       "          (post_feedforward_layernorm): Gemma3RMSNorm((2560,), eps=1e-06)\n",
       "        )\n",
       "      )\n",
       "      (norm): Gemma3RMSNorm((2560,), eps=1e-06)\n",
       "      (rotary_emb): Gemma3RotaryEmbedding()\n",
       "      (rotary_emb_local): Gemma3RotaryEmbedding()\n",
       "    )\n",
       "  )\n",
       "  (lm_head): Linear(in_features=2560, out_features=262208, bias=False)\n",
       ")"
      ]
     },
     "execution_count": 4,
     "metadata": {},
     "output_type": "execute_result"
    }
   ],
   "execution_count": 4
  },
  {
   "metadata": {},
   "cell_type": "markdown",
   "source": "# 準備資料",
   "id": "3701f8fa39a42111"
  },
  {
   "metadata": {
    "ExecuteTime": {
     "end_time": "2025-08-03T09:37:54.936843Z",
     "start_time": "2025-08-03T09:37:54.754424Z"
    }
   },
   "cell_type": "code",
   "source": [
    "import pandas as pd\n",
    "from PIL import Image\n",
    "import numpy as np\n",
    "import torch\n",
    "from torch.utils.data import Dataset, DataLoader"
   ],
   "id": "ef76f0c5de532845",
   "outputs": [],
   "execution_count": 5
  },
  {
   "metadata": {
    "ExecuteTime": {
     "end_time": "2025-05-12T16:44:13.894092Z",
     "start_time": "2025-05-12T16:44:13.883642Z"
    }
   },
   "cell_type": "code",
   "source": [
    "file_locate = \"/tmp/pycharm_project_477/\" #遠端環境\n",
    "\n",
    "images = os.listdir(file_locate + \"/dataset/擊球數據整理/images\")\n",
    "Inputs = pd.read_csv(file_locate + \"/dataset/擊球數據整理/question_Input.csv\")\n",
    "\n",
    "init_prompt = open(file_locate + \"/dataset/init_prompt.txt\").read()\n",
    "#rule = pd.read_excel(file_locate + \"/dataset/回饋規則.xlsx\")"
   ],
   "id": "e0b43788bde9daf0",
   "outputs": [],
   "execution_count": 6
  },
  {
   "metadata": {
    "ExecuteTime": {
     "end_time": "2025-04-09T05:18:03.715138Z",
     "start_time": "2025-04-09T05:18:03.712249Z"
    }
   },
   "cell_type": "code",
   "source": "str(rule)",
   "id": "fb1b7509dbf6392b",
   "outputs": [
    {
     "data": {
      "text/plain": [
       "'                球路類型   結果                                                 原因  \\\\\\n0            Pull左飛球   失誤                                   上桿(P2~3)時，角度過於陡峭   \\n1            Pull左飛球   失誤                                             桿頭頂點過高   \\n2            Pull左飛球   失誤                           下桿角度過於陡峭，左手腕過度外展，肩關節伸展抬起   \\n3            Pull左飛球   失誤                                     桿面關閉，擊球點位於球的外側   \\n4     Pull Hook左拉左曲球   失誤                                   上桿(P2~3)時，角度過於陡峭   \\n5     Pull Hook左拉左曲球   失誤                                             桿頭頂點過高   \\n6     Pull Hook左拉左曲球   失誤                          下桿角度過於陡峭，手腕過度彎曲，過度由內而外的路徑   \\n7     Pull Hook左拉左曲球   失誤                         桿面關閉，擊球點位於球的外側，手腕繼續彎曲未保持向前   \\n8   Pull Slice 左拉右曲球   失誤  通常是因為上桿時P2過於內側，手臂和身體過於靠近卡住之後，反而在下桿時由外側下桿、或是軸心偏...   \\n9   Pull Slice 左拉右曲球   失誤                                           擺動路徑過於內向   \\n10  Pull Slice 左拉右曲球   失誤                                           下桿時由外側下桿   \\n11  Pull Slice 左拉右曲球   失誤                              觸球時桿面角度關閉，但桿面角度小於揮桿軌跡   \\n12           Push右飛球   失誤                    上桿(P2~3)時，角度過於平緩，手腕過度內收，未保持適當角度   \\n13           Push右飛球   失誤                               P4頂點轉換時桿頭頂點過低，手腕過度彎曲   \\n14           Push右飛球   失誤               P5~6下桿角度過於平緩，手腕未回復成預備站姿的角度，手用力而非肩膀轉動   \\n15           Push右飛球   失誤                         P7擊球時桿面開放，擊球點位於球的內側，左手腕未固定   \\n16   Push Slice右拉右曲球   失誤            上桿(P2~3)時，角度過於平緩，手腕過度內收，未保持適當角度，肩或腰旋轉過度   \\n17   Push Slice右拉右曲球   失誤                           P4頂點轉換時，桿頭頂點過低，腰部或手腕過度彎曲   \\n18   Push Slice右拉右曲球   失誤   P5~6下桿角度過於平緩，左手腕過度外展，肩關節伸展抬起，腰部向前旋轉過度，身體重心太早向前移動   \\n19   Push Slice右拉右曲球   失誤                         P7擊球時桿面開放，擊球點位於球的內側，左手腕未固定   \\n20   Push Hook 右拉左曲球   失誤  上桿往內側，然後再由內側透過手腕的翻轉使球往左旋。有時為了修正由外往內的揮桿路徑會刻意打出這...   \\n21   Push Hook 右拉左曲球   失誤                                        桿頭在頂點位置過於內側   \\n22   Push Hook 右拉左曲球   失誤                            開始下揮時，身體未能正確同步旋轉，桿面過於閉合   \\n23   Push Hook 右拉左曲球   失誤                              桿面打開軌跡由內向外，桿面角度小於揮桿路徑   \\n24               NaN  NaN                                                NaN   \\n25      Straight 直飛球   正確                          每個階段動作的位置和時間都配合得很好，且節奏流暢。   \\n26         Fade 小右曲球   正確                      手腕角度保持得很好，桿面觸球方正，且揮桿軌跡由外向內所致。   \\n27         Draw 小左曲球   正確                     手腕角度保持得很好，觸球時桿面方正，且揮桿軌跡由內向外所致。   \\n\\n                                                 改善建議  \\n0                                    上桿(P2~3)時，肩膀往右轉動  \\n1                                              肩膀往右轉動  \\n2                            下桿時，左手臂打直、左手腕維持固定、肩膀自然旋轉  \\n3                                 擊球時，左手腕維持固定，注意擊球點位置  \\n4                                    上桿(P2~3)時，肩膀往右轉動  \\n5                                             肩膀請往右轉動  \\n6                                   下桿時，左手臂打直、左手腕維持固定  \\n7                          擊球時，左手腕應恢復成未彎曲的狀態，及注意擊球點位置  \\n8                       上桿時維持軸心，P2時桿身平行於雙腳之平行線，保持桿面角度  \\n9                                         胸椎充分旋轉，重心往左  \\n10                        P5至P6右肩和右手肘維持外旋，左手腕在P5.5時屈曲  \\n11                                    維持手腕角度過球轉身至收尾收桿  \\n12                    上桿(P2~3)時，角度過於平緩，手腕過度內收，未保持適當角度  \\n13                                     左手腕維持固定，腰部減少轉動  \\n14                                      下桿時，手腕及肩膀往左轉動  \\n15                                擊球時，左手腕維持固定，注意擊球點位置  \\n16  避免過度用力和緊繃：上杆至90度胸口即可，不需強迫手部過高。保持身體放鬆，避免上杆時緊繃，以...  \\n17                                     左手腕維持固定，腰部減少轉動  \\n18                               下桿時，手腕及肩膀往左轉動，腰部減少旋轉  \\n19                                擊球時，左手腕維持固定，注意擊球點位置  \\n20                                     上桿時維持軸心，保持桿面角度  \\n21                                      胸椎充分旋轉，保持桿頭方正  \\n22                           下桿時，從臀部開始動作，保持下半身與上半身的協調  \\n23                        注重在接近擊球點時，保持下半身的穩定與桿面的正確閉合度  \\n24                                                NaN  \\n25                                       多練習且重複此揮桿動作。  \\n26  這次上杆高度適中且動作流暢，下杆時也保持穩定。教練指出這是由於下半身主導力量，使擊球姿勢自然...  \\n27  這是職業選手喜歡打出的球路，瞄球時桿面朝向目標，站姿朝向目標右方，上桿時維持軸心，P2至P4...  '"
      ]
     },
     "execution_count": 10,
     "metadata": {},
     "output_type": "execute_result"
    }
   ],
   "execution_count": 10
  },
  {
   "metadata": {
    "ExecuteTime": {
     "end_time": "2025-08-03T09:37:58.066351Z",
     "start_time": "2025-08-03T09:37:58.062858Z"
    }
   },
   "cell_type": "code",
   "source": [
    "import base64\n",
    "\n",
    "def encode_base64(image):\n",
    "    with open(image, \"rb\") as f:\n",
    "        return base64.b64encode(f.read()).decode(\"utf-8\")"
   ],
   "id": "fb7484ccc8fdf911",
   "outputs": [],
   "execution_count": 6
  },
  {
   "metadata": {
    "ExecuteTime": {
     "end_time": "2025-04-09T05:18:03.839505Z",
     "start_time": "2025-04-09T05:18:03.831560Z"
    }
   },
   "cell_type": "code",
   "source": [
    "class GolfDataset(Dataset):\n",
    "    def __init__(self, Input):\n",
    "        self.num = Input[\"num\"]\n",
    "        self.images = []\n",
    "        self.questions = Input[\"Input\"]\n",
    "        self.ground_truth = Input[\"GroundTruth\"]\n",
    "    def __len__(self):\n",
    "        return len(self.questions)\n",
    "    def __getitem__(self, idx):\n",
    "        num = self.num.iloc[idx]\n",
    "        question = self.questions.iloc[idx]\n",
    "        image = encode_base64(file_locate + \"/dataset/擊球數據整理/images/\"+\"combined_\" +str(self.num.iloc[idx]) + \".jpg\")\n",
    "        ground_truth = self.ground_truth.iloc[idx]\n",
    "        return num,image,question,ground_truth"
   ],
   "id": "c8296c7eacf1cfff",
   "outputs": [],
   "execution_count": 12
  },
  {
   "metadata": {
    "ExecuteTime": {
     "end_time": "2025-04-09T05:18:03.887383Z",
     "start_time": "2025-04-09T05:18:03.885633Z"
    }
   },
   "cell_type": "code",
   "source": [
    "golf_dataset = GolfDataset(Inputs)\n",
    "golf_dataloader = DataLoader(golf_dataset, shuffle=False)"
   ],
   "id": "2f630f3ce649422d",
   "outputs": [],
   "execution_count": 13
  },
  {
   "metadata": {
    "ExecuteTime": {
     "end_time": "2025-04-09T13:23:39.418801Z",
     "start_time": "2025-04-09T13:22:28.742649Z"
    }
   },
   "cell_type": "code",
   "source": [
    "result_df = pd.DataFrame()\n",
    "\n",
    "\n",
    "rule = str(rule)\n",
    "for num ,images , questions, ground_truth in golf_dataloader:\n",
    "    images = str(images)\n",
    "    messages = [\n",
    "        {\n",
    "            \"role\": \"system\",\n",
    "            \"content\": [{\"type\": \"text\", \"text\": init_prompt+rule}],\n",
    "        },\n",
    "        {\n",
    "          \"role\": \"user\",\n",
    "          \"content\": [\n",
    "                {\"type\": \"image\", \"base64\": images},\n",
    "                {\"type\": \"text\", \"text\": questions},\n",
    "            ],\n",
    "        },\n",
    "    ]\n",
    "    inputs = processor.apply_chat_template(\n",
    "        messages, add_generation_prompt=True, tokenize=True,\n",
    "        return_dict=True, return_tensors=\"pt\", padding=\"longest\",pad_to_multiple_of=8\n",
    "    ).to(model.device, dtype=torch.bfloat16)\n",
    "    \n",
    "    input_len = inputs[\"input_ids\"].shape[-1]\n",
    "    \n",
    "    with torch.inference_mode():\n",
    "        generation = model.generate(\n",
    "            **inputs,\n",
    "            max_new_tokens=1024,\n",
    "            do_sample=True,\n",
    "            temperature=0.1\n",
    "        )\n",
    "        generation = generation[0][input_len:]\n",
    "    \n",
    "    decoded = processor.decode(generation, skip_special_tokens=True)\n",
    "    result_df = pd.concat([result_df, pd.DataFrame({\"num\":num, \"answer\":decoded})])\n",
    "    \n",
    "    result_df[\"answer\"] = result_df[\"answer\"].str.replace(\" \", \"\")  \n",
    "    print(decoded)\n",
    "    "
   ],
   "id": "ed7045112339de29",
   "outputs": [
    {
     "name": "stdout",
     "output_type": "stream",
     "text": [
      "好的，我將根據您提供的資訊，進行詳細的分析和建議。\n",
      "\n",
      "**綜合分析結果：**\n",
      "\n",
      "{{\n",
      "        \"球路\": \"Pull Hook 左拉左曲球\",\n",
      "         \"原因\": \"整體上桿角度過於陡峭，導致上桿時手腕過度外展，再加上P4頂點轉換時，擊球點位移過左側，使得桿面在擊球時關閉，產生了明顯的左拉左曲球。此外，擊球時左手腕仍持續外展，未能充分恢復原位，進一步加劇了球路的偏差。\",\n",
      "         \"建議\": \"在我們全面的揮杆分析中，您的揮杆動作與教練大致相同，請繼續保持上杆時的協調性。然而您的揮杆有幾個地方可以加強。在您的上桿階段，請嘗試減小上桿角度，避免過於陡峭，讓手腕在整個揮杆過程中保持相對穩定。在P4頂點轉換時，盡量將擊球點維持在球的中心位置，避免過度偏左。擊球時，盡可能在揮杆結束時，讓左手腕恢復成未彎曲的狀態，避免過度外展，這將有助於改善球路的穩定性，減少左拉左曲球的出現。\"\n",
      "}}\n",
      "\n",
      "**具體動作細節建議 (針對上桿階段)：**\n",
      "\n",
      "「好的，讓我們從上桿開始。我注意到您上桿時的角度有點陡峭，這導致手腕在揮桿的過程中有些過度外展，因此我們需要調整一下。下次上桿時，請嘗試放慢速度，讓上桿動作更為緩慢、更為協調。想像一下，將球杆像一條柔軟的河流，而不是像一根硬梆梆的棍子。在您上桿的過程中，請意識到手腕應該保持相對穩定，避免過度的外展。試著在P2時，盡量讓球杆與您的雙腳平行，保持球杆垂直度。當您到達P3時，手腕也應該有所收斂，但不要過度用力，以免造成不必要的壓力。重要的是找到一個能讓您感到舒適、放鬆的揮桿節奏。」\n",
      "\n",
      "**備註：**\n",
      "\n",
      "*   我將您的擊球數據參數和姿勢差異信息納入考慮，並結合回饋規則中的建議，進一步分析了學員的揮杆問題。\n",
      "*   我根據學員的具體情況，調整了我的建議，力求更具體、更可行。\n",
      "*   我盡量使用了口語化的表達方式，讓您能更好地理解和接受我的建議。\n",
      "\n",
      "希望這些分析和建議對您有所幫助。如果您有任何問題或需要進一步的指導，請隨時提出。\n",
      "{{\n",
      "        \"球路\": \"Fade 小右曲球\",\n",
      "         \"原因\": \"學員在擊球時，手腕角度保持得很好，桿面觸球方正，且揮桿軌跡由外向內所致，這是一種良好的球路，代表著揮桿的控制力相對較強。\",\n",
      "         \"建議\": \"非常棒！維持這種手腕角度和球路，繼續放鬆揮桿，避免過度用力，保持身體核心的穩定。在下次練習中，可以嘗試增加一些揮桿的速度，看看是否能進一步提升擊球的距離。\"\n",
      "}}\n",
      "{{\n",
      "        \"球路\": \"Push Slice 右拉右曲球\",\n",
      "         \"原因\": \"在您P7的擊球動作中，桿面明顯過於開放，擊球點位於球的內側，這導致球向右曲。同时手腕持续弯曲，未能保持向前，进一步加剧了右拉右曲的趋势。\",\n",
      "         \"建議\": \"在您P7的擊球動作中，請特別注意保持桿面開放，擊球點應在球的右側偏右位置。同時，在揮桿過程中，請努力維持手腕向前彎曲，避免過度彎曲，并加强肩膀的旋轉，以保持桿面的穩定性。您可以嘗試在P2和P3階段，稍微增加手腕的固定，並注意在擊球時，保持身體的平衡與穩定。\"\n",
      "}}\n",
      "好的，我將根據您提供的資訊進行分析並提供建議。\n",
      "\n",
      "**綜合分析結果：**\n",
      "\n",
      "{{\n",
      "        \"球路\": \"Pull Hook 左拉左曲球\",\n",
      "         \"原因\": \"整體來看，學員的揮桿動作呈現明顯的左拉左曲球傾向，主要原因在於上桿時角度過於陡峭，導致P4頂點轉換時桿頭頂點過高，且擊球點位於球的左側，手腕持續彎曲未固定，造成桿面關閉，且 ClubAnglePath 偏左，ClubAngleFace 也略有負值，這兩者相乘後導致的Clubface值大於3，因此產生了左拉左曲球的結果。在下桿階段，肩膀和手腕的協調性有所不足，導致球路不穩定。\",\n",
      "         \"建議\": \"在我們的全面揮杆分析中，您的揮杆動作與教練大致相同，請繼續保持。然而您的揮杆有幾個地方可以加強。在您的P2~P3階段，請嘗試放鬆肩膀，避免上桿時過於用力，並將桿頭頂點稍微降低，目標是保持桿頭在腰部以下的位置。同時，在擊球時，請務必固定左手腕，避免過度彎曲，並專注於擊球點的控制，確保球路朝向目標中心。此外，建議您多加練習揮桿的節奏感，保持身體與球杆的協調性，從而提升球路的穩定性。您可以嘗試利用慢動作來練習，感受身體各個關節的移動，並將動作分解成更小的步驟來完成。\"\n",
      "}}\n",
      "\n",
      "**詳細動作細節建議（針對P2~P4階段）：**\n",
      "\n",
      "*   **P2階段：**  \"在揮桿的初期，請注意保持上桿時肩膀的放松，避免過度收緊，讓肩膀自然地轉動，不要過早地進行身體的旋轉。 桿頭高度應控制在腰部以下，不要過高，這樣可以更好地控制球杆的擊球點。\"\n",
      "*   **P3階段：** \"在P3階段，請著重於保持左手腕的固定，避免過度外展，盡可能地讓手腕保持在揮桿時的預備站姿角度。 擊球時，請盡可能地將擊球點控制在球的中心位置，這樣可以避免球路偏離目標。\"\n",
      "*   **P4頂點/轉換階段：** \"在P4頂點轉換的瞬間，請確保身體的轉動與球杆的運動保持同步，避免身體過早或過晚地開始旋轉。桿頭頂點應該位於腰部以下，同時保持左手腕的固定。\"\n",
      "\n",
      "希望這些建議能幫助您更好地指導學員。\n",
      "{{\n",
      "        \"球路\": \"Push Slice 右拉右曲球\",\n",
      "         \"原因\": \"在P7擊球階段，球桿面打開過多，並且手腕持續外展，導致擊球點偏向右側，產生右拉右曲球的現象。此外，可能存在上桿時P2過於內側，並導致身體過度靠近卡住的問題。\",\n",
      "         \"建議\": \"在P7擊球階段，請嘗試在揮桿過程中，保持手腕的固定，並且注意擊球點位置，避免過度外展。上桿時，請注意P2的位置，確保身體與桿身保持適當的距離，避免過度靠近卡住。同時，可以嘗試放鬆肩膀和手腕，減少緊繃，以提高揮桿的順暢度和力量。\"\n",
      "}}\n",
      "{{\n",
      "        \"球路\": \"Push Slice 右拉右曲球\",\n",
      "         \"原因\": \"觀察照片，上桿(P2~3)時，學員上桿角度過於內側，造成揮桿路徑偏向右側。同時，擊球時桿面過於打開，且手腕未能固定，導致球路偏右。\",\n",
      "         \"建議\": \"在我們全面的揮杆分析中，您的揮杆動作與教練大致相同，請繼續保持上桿時的軸心與桿身平行。在P2~3階段，嘗試調整上桿角度，使其更靠近軸心位置。擊球時，注意手腕的固定，保持手腕在預備站姿的狀態，同時嘗試打開桿面，並在擊球點時，用較小的力量控制桿面，避免過度用力造成球路偏右。這將有助於讓球路更正，控制右拉右曲球的程度。\"\n",
      "}}\n"
     ]
    }
   ],
   "execution_count": 23
  },
  {
   "metadata": {
    "ExecuteTime": {
     "end_time": "2025-04-09T05:19:46.891454Z",
     "start_time": "2025-04-09T05:19:46.888364Z"
    }
   },
   "cell_type": "code",
   "source": "result_df",
   "id": "be0eac8bf50e0e3f",
   "outputs": [
    {
     "data": {
      "text/plain": [
       "      num                                             answer\n",
       "0  186382  好的，請您提供學員的擊球數據、姿勢差異資訊以及圖片，我將按照您的要求進行分析並提供詳細的口語...\n",
       "0  186387  好的，我將根據您提供的資訊進行分析，並提供詳細的口語化動作建議。\\n\\n**綜合分析結果：*...\n",
       "0  186410  好的，我將根據您提供的資訊進行分析，並提供詳細的口語化動作建議。\\n\\n**綜合分析結果：*...\n",
       "0  186416  好的，我將根據您提供的資訊進行分析，並提供詳細的口語化動作建議。\\n\\n**綜合分析結果：*...\n",
       "0  198514  好的，我將根據您提供的資訊進行分析，並提供詳細的口語化動作建議。\\n\\n**綜合分析結果：*...\n",
       "0  199353  好的，我將根據您提供的資訊進行分析，並提供詳細的口語化動作建議。\\n\\n**綜合分析結果：*..."
      ],
      "text/html": [
       "<div>\n",
       "<style scoped>\n",
       "    .dataframe tbody tr th:only-of-type {\n",
       "        vertical-align: middle;\n",
       "    }\n",
       "\n",
       "    .dataframe tbody tr th {\n",
       "        vertical-align: top;\n",
       "    }\n",
       "\n",
       "    .dataframe thead th {\n",
       "        text-align: right;\n",
       "    }\n",
       "</style>\n",
       "<table border=\"1\" class=\"dataframe\">\n",
       "  <thead>\n",
       "    <tr style=\"text-align: right;\">\n",
       "      <th></th>\n",
       "      <th>num</th>\n",
       "      <th>answer</th>\n",
       "    </tr>\n",
       "  </thead>\n",
       "  <tbody>\n",
       "    <tr>\n",
       "      <th>0</th>\n",
       "      <td>186382</td>\n",
       "      <td>好的，請您提供學員的擊球數據、姿勢差異資訊以及圖片，我將按照您的要求進行分析並提供詳細的口語...</td>\n",
       "    </tr>\n",
       "    <tr>\n",
       "      <th>0</th>\n",
       "      <td>186387</td>\n",
       "      <td>好的，我將根據您提供的資訊進行分析，並提供詳細的口語化動作建議。\\n\\n**綜合分析結果：*...</td>\n",
       "    </tr>\n",
       "    <tr>\n",
       "      <th>0</th>\n",
       "      <td>186410</td>\n",
       "      <td>好的，我將根據您提供的資訊進行分析，並提供詳細的口語化動作建議。\\n\\n**綜合分析結果：*...</td>\n",
       "    </tr>\n",
       "    <tr>\n",
       "      <th>0</th>\n",
       "      <td>186416</td>\n",
       "      <td>好的，我將根據您提供的資訊進行分析，並提供詳細的口語化動作建議。\\n\\n**綜合分析結果：*...</td>\n",
       "    </tr>\n",
       "    <tr>\n",
       "      <th>0</th>\n",
       "      <td>198514</td>\n",
       "      <td>好的，我將根據您提供的資訊進行分析，並提供詳細的口語化動作建議。\\n\\n**綜合分析結果：*...</td>\n",
       "    </tr>\n",
       "    <tr>\n",
       "      <th>0</th>\n",
       "      <td>199353</td>\n",
       "      <td>好的，我將根據您提供的資訊進行分析，並提供詳細的口語化動作建議。\\n\\n**綜合分析結果：*...</td>\n",
       "    </tr>\n",
       "  </tbody>\n",
       "</table>\n",
       "</div>"
      ]
     },
     "execution_count": 15,
     "metadata": {},
     "output_type": "execute_result"
    }
   ],
   "execution_count": 15
  },
  {
   "metadata": {},
   "cell_type": "code",
   "outputs": [],
   "execution_count": null,
   "source": "",
   "id": "765e0218e066bc33"
  },
  {
   "metadata": {
    "ExecuteTime": {
     "end_time": "2025-04-09T05:19:46.975180Z",
     "start_time": "2025-04-09T05:19:46.973194Z"
    }
   },
   "cell_type": "code",
   "source": [
    "import time\n",
    "\n",
    "timeStamp = time.strftime('%Y_%m_%d_%H%M',time.localtime(time.time()))\n",
    "result_df.to_csv(file_locate+\"/experiment_result/\"+timeStamp+\"_test_Gemma3-4b_output_result.csv\", index=False, encoding=\"utf-8\")"
   ],
   "id": "9870086b3fa2c0fd",
   "outputs": [],
   "execution_count": 16
  },
  {
   "metadata": {},
   "cell_type": "code",
   "outputs": [],
   "execution_count": null,
   "source": "",
   "id": "32c061eb4ab6c801"
  },
  {
   "metadata": {},
   "cell_type": "code",
   "outputs": [],
   "execution_count": null,
   "source": "",
   "id": "374bf5fc92523df9"
  },
  {
   "metadata": {
    "ExecuteTime": {
     "end_time": "2025-08-03T09:38:06.628842Z",
     "start_time": "2025-08-03T09:38:06.514649Z"
    }
   },
   "cell_type": "code",
   "source": [
    "from datasets import load_dataset\n",
    "from PIL import Image\n",
    "\n",
    "# System message for the assistant\n",
    "system_message = \"You are an expert product description writer for Amazon.\"\n",
    "\n",
    "# User prompt that combines the user query and the schema\n",
    "user_prompt = \"\"\"Create a Short Product description based on the provided <PRODUCT> and <CATEGORY> and image.\n",
    "Only return description. The description should be SEO optimized and for a better mobile search experience.\n",
    "\n",
    "<PRODUCT>\n",
    "{product}\n",
    "</PRODUCT>\n",
    "\n",
    "<CATEGORY>\n",
    "{category}\n",
    "</CATEGORY>\n",
    "\"\"\"\n",
    "\n",
    "# Convert dataset to OAI messages\n",
    "def format_data(sample):\n",
    "    return {\n",
    "        \"messages\": [\n",
    "            {\n",
    "                \"role\": \"system\",\n",
    "                \"content\": [{\"type\": \"text\", \"text\": system_message}],\n",
    "            },\n",
    "            {\n",
    "                \"role\": \"user\",\n",
    "                \"content\": [\n",
    "                    {\n",
    "                        \"type\": \"text\",\n",
    "                        \"text\": user_prompt.format(\n",
    "                            product=sample[\"Product Name\"],\n",
    "                            category=sample[\"Category\"],\n",
    "                        ),\n",
    "                    },\n",
    "                    {\n",
    "                        \"type\": \"image\",\n",
    "                        \"image\": sample[\"image\"],\n",
    "                    },\n",
    "                ],\n",
    "            },\n",
    "            {\n",
    "                \"role\": \"assistant\",\n",
    "                \"content\": [{\"type\": \"text\", \"text\": sample[\"description\"]}],\n",
    "            },\n",
    "        ],\n",
    "    }\n",
    "\n",
    "def process_vision_info(messages: list[dict]) -> list[Image.Image]:\n",
    "    image_inputs = []\n",
    "    # Iterate through each conversation\n",
    "    for msg in messages:\n",
    "        # Get content (ensure it's a list)\n",
    "        content = msg.get(\"content\", [])\n",
    "        if not isinstance(content, list):\n",
    "            content = [content]\n",
    "\n",
    "        # Check each content element for images\n",
    "        for element in content:\n",
    "            if isinstance(element, dict) and (\n",
    "                \"image\" in element or element.get(\"type\") == \"image\"\n",
    "            ):\n",
    "                # Get the image and convert to RGB\n",
    "                if \"image\" in element:\n",
    "                    image = element[\"image\"]\n",
    "                else:\n",
    "                    image = element\n",
    "                image_inputs.append(image.convert(\"RGB\"))\n",
    "    return image_inputs"
   ],
   "id": "22c89e6362f344d8",
   "outputs": [],
   "execution_count": 7
  },
  {
   "metadata": {
    "ExecuteTime": {
     "end_time": "2025-08-03T09:38:59.792766Z",
     "start_time": "2025-08-03T09:38:21.643166Z"
    }
   },
   "cell_type": "code",
   "source": [
    "import requests\n",
    "from PIL import Image\n",
    "\n",
    "image =encode_base64(\"/tmp/pycharm_project_675/dataset/test_question/186406_front_video_swing_plane_313_plane.jpg\")\n",
    "\n",
    "system_message = \"\"\"\n",
    "Mark out the right arm's bounding box on this picture ，expressed as a Precise percentage like 0.XXX，only output this format:[x1,y1,x2,y2,x3,y3,x4,y4]\n",
    "\"\"\"\n",
    "\n",
    "user_prompt = \"\"\"\n",
    "Push Slice 右拉右曲球\n",
    "球速:69.555、發射角度:19.135、發射方向:9.572、飛行距離:206、ClubAngleFace:12.239、ClubAnglePath:-0.254\n",
    "\n",
    "front:{A: [0.0, -0.0, 0.0, -0.0, -0.0, -0.0], F: [-0.011, 0.005, 0.022, 0.029, -0.03, -0.018], I: [-0.024, -0.053, -0.024, -0.072, -0.05, 0.226], T: [-0.029, -0.037, 0.004, -0.114, -0.07, 0.253]}\n",
    "side:{A: [0.245, -0.075, -0.008, -0.078, -0.058, -0.02], F: [0.008, -0.0, 0.013, -0.01, -0.013, 0.0], I: [0.002, -0.006, -0.001, 0.01, -0.001, -0.002], T: [-0.035, -0.029, 0.218, -0.08, -0.052, -0.021]}\n",
    "\n",
    "\n",
    "\"\"\"\n",
    "\n",
    "messages = [\n",
    "    {\"role\": \"system\", \"content\": [{\"type\": \"text\", \"text\": system_message}]},\n",
    "    {\"role\": \"user\", \"content\": [\n",
    "        #{\"type\": \"text\", \"text\": user_prompt},\n",
    "        {\"type\": \"image\",\"image\": image},\n",
    "    ]},\n",
    "]\n",
    "    \n",
    "    \n",
    "inputs = processor.apply_chat_template(\n",
    "    messages, add_generation_prompt=True, tokenize=True,\n",
    "    return_dict=True, return_tensors=\"pt\", padding=\"longest\",pad_to_multiple_of=8\n",
    ").to(model.device, dtype=torch.bfloat16)\n",
    "\n",
    "input_len = inputs[\"input_ids\"].shape[-1]\n",
    "\n",
    "with torch.inference_mode():\n",
    "    generation = model.generate(\n",
    "        **inputs,\n",
    "        max_new_tokens=2048,\n",
    "        do_sample=True,\n",
    "        temperature=0.1\n",
    "    )\n",
    "    generation = generation[0][input_len:]\n",
    "\n",
    "decoded = processor.decode(generation, skip_special_tokens=True) \n",
    "print(decoded)"
   ],
   "id": "166bf8e40b651eaf",
   "outputs": [
    {
     "name": "stderr",
     "output_type": "stream",
     "text": [
      "The following generation flags are not valid and may be ignored: ['output_attentions', 'output_hidden_states']. Set `TRANSFORMERS_VERBOSITY=info` for more details.\n",
      "/usr/local/lib/python3.10/dist-packages/torch/_inductor/compile_fx.py:236: UserWarning: TensorFloat32 tensor cores for float32 matrix multiplication available but not enabled. Consider setting `torch.set_float32_matmul_precision('high')` for better performance.\n",
      "  warnings.warn(\n"
     ]
    },
    {
     "name": "stdout",
     "output_type": "stream",
     "text": [
      "[27.1, 47.2, 58.7, 78.9, 67.3, 27.8, 79.7, 81.3]\n"
     ]
    }
   ],
   "execution_count": 9
  },
  {
   "metadata": {
    "ExecuteTime": {
     "end_time": "2025-08-03T09:51:11.205367Z",
     "start_time": "2025-08-03T09:51:10.546867Z"
    }
   },
   "cell_type": "code",
   "source": [
    "import requests\n",
    "from PIL import Image\n",
    "\n",
    "image =encode_base64(\"/tmp/pycharm_project_675/dataset/test_question/186406_front_video_swing_plane_313_plane.jpg\")\n",
    "\n",
    "system_message = \"\"\"\n",
    "Mark out the right arm's bounding box on this picture ，expressed as a Precise percentage like 0.XXX，only output this format:[x1,y1,x2,y2,x3,y3,x4,y4]\n",
    "\"\"\"\n",
    "\n",
    "user_prompt = \"\"\"\n",
    "Push Slice 右拉右曲球\n",
    "球速:69.555、發射角度:19.135、發射方向:9.572、飛行距離:206、ClubAngleFace:12.239、ClubAnglePath:-0.254\n",
    "\n",
    "front:{A: [0.0, -0.0, 0.0, -0.0, -0.0, -0.0], F: [-0.011, 0.005, 0.022, 0.029, -0.03, -0.018], I: [-0.024, -0.053, -0.024, -0.072, -0.05, 0.226], T: [-0.029, -0.037, 0.004, -0.114, -0.07, 0.253]}\n",
    "side:{A: [0.245, -0.075, -0.008, -0.078, -0.058, -0.02], F: [0.008, -0.0, 0.013, -0.01, -0.013, 0.0], I: [0.002, -0.006, -0.001, 0.01, -0.001, -0.002], T: [-0.035, -0.029, 0.218, -0.08, -0.052, -0.021]}\n",
    "\n",
    "\n",
    "\"\"\"\n",
    "\n",
    "messages = [\n",
    "    {\"role\": \"system\", \"content\": [{\"type\": \"text\", \"text\": system_message}]},\n",
    "    {\"role\": \"user\", \"content\": [\n",
    "        #{\"type\": \"text\", \"text\": user_prompt},\n",
    "        {\"type\": \"image\",\"image\": image},\n",
    "    ]},\n",
    "]\n",
    "\n",
    "\n",
    "inputs = processor.apply_chat_template(\n",
    "    messages, add_generation_prompt=True, tokenize=True,\n",
    "    return_dict=True, return_tensors=\"pt\", padding=\"longest\",pad_to_multiple_of=8\n",
    ").to(model.device, dtype=torch.bfloat16)\n",
    "\n",
    "input_len = inputs[\"input_ids\"].shape[-1]\n",
    "\n",
    "with torch.inference_mode():\n",
    "    output = model(\n",
    "        **inputs,\n",
    "        max_new_tokens=2048,\n",
    "        do_sample=True,\n",
    "        temperature=0.1\n",
    "    )"
   ],
   "id": "fcaf5d3a6b98431c",
   "outputs": [],
   "execution_count": 12
  },
  {
   "metadata": {
    "ExecuteTime": {
     "end_time": "2025-08-03T10:13:56.869857Z",
     "start_time": "2025-08-03T10:13:56.866629Z"
    }
   },
   "cell_type": "code",
   "source": "print(output.hidden_states[34].shape)#34層純文字Decoder",
   "id": "d7fe6b2c6ab9a099",
   "outputs": [
    {
     "name": "stdout",
     "output_type": "stream",
     "text": [
      "torch.Size([1, 328, 2560])\n"
     ]
    }
   ],
   "execution_count": 40
  },
  {
   "metadata": {
    "ExecuteTime": {
     "end_time": "2025-08-03T10:36:49.656502Z",
     "start_time": "2025-08-03T10:36:49.653210Z"
    }
   },
   "cell_type": "code",
   "source": "print(output.image_hidden_states[0].shape)#34層純文字Decoder",
   "id": "f939906c90b4bb2b",
   "outputs": [
    {
     "name": "stdout",
     "output_type": "stream",
     "text": [
      "torch.Size([256, 2560])\n"
     ]
    }
   ],
   "execution_count": 56
  },
  {
   "metadata": {
    "ExecuteTime": {
     "end_time": "2025-08-03T10:37:32.563403Z",
     "start_time": "2025-08-03T10:37:32.559987Z"
    }
   },
   "cell_type": "code",
   "source": "print(output.attentions[33].shape)",
   "id": "fb593c45f5a0791c",
   "outputs": [
    {
     "name": "stdout",
     "output_type": "stream",
     "text": [
      "torch.Size([1, 8, 328, 328])\n"
     ]
    }
   ],
   "execution_count": 61
  },
  {
   "metadata": {
    "ExecuteTime": {
     "end_time": "2025-08-03T10:37:39.705346Z",
     "start_time": "2025-08-03T10:37:39.701872Z"
    }
   },
   "cell_type": "code",
   "source": "print(output.logits[0].shape)#",
   "id": "d1a0ae6ef4445e19",
   "outputs": [
    {
     "name": "stdout",
     "output_type": "stream",
     "text": [
      "torch.Size([328, 262208])\n"
     ]
    }
   ],
   "execution_count": 63
  },
  {
   "metadata": {
    "ExecuteTime": {
     "end_time": "2025-08-03T10:17:17.921490Z",
     "start_time": "2025-08-03T10:17:17.918245Z"
    }
   },
   "cell_type": "code",
   "source": "print(output.keyzs())",
   "id": "f8f6740b555fd92e",
   "outputs": [
    {
     "name": "stdout",
     "output_type": "stream",
     "text": [
      "odict_keys(['logits', 'hidden_states', 'attentions', 'image_hidden_states'])\n"
     ]
    }
   ],
   "execution_count": 44
  }
 ],
 "metadata": {
  "kernelspec": {
   "display_name": "Python 3",
   "language": "python",
   "name": "python3"
  },
  "language_info": {
   "codemirror_mode": {
    "name": "ipython",
    "version": 2
   },
   "file_extension": ".py",
   "mimetype": "text/x-python",
   "name": "python",
   "nbconvert_exporter": "python",
   "pygments_lexer": "ipython2",
   "version": "2.7.6"
  }
 },
 "nbformat": 4,
 "nbformat_minor": 5
}
