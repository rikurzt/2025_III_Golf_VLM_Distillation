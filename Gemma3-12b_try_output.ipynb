{
 "cells": [
  {
   "metadata": {},
   "cell_type": "markdown",
   "source": "# 模型下載",
   "id": "fdc9fecea3e65c70"
  },
  {
   "cell_type": "code",
   "id": "initial_id",
   "metadata": {
    "collapsed": true,
    "ExecuteTime": {
     "end_time": "2025-04-08T07:50:19.391111Z",
     "start_time": "2025-04-08T07:50:17.048778Z"
    }
   },
   "source": [
    "import time\n",
    "from os import times\n",
    "\n",
    "from transformers import AutoProcessor, Gemma3ForConditionalGeneration\n",
    "import torch\n",
    "import os"
   ],
   "outputs": [
    {
     "name": "stderr",
     "output_type": "stream",
     "text": [
      "/home/rikurzt/.virtualenvs/TESTSSH/lib/python3.10/site-packages/tqdm/auto.py:21: TqdmWarning: IProgress not found. Please update jupyter and ipywidgets. See https://ipywidgets.readthedocs.io/en/stable/user_install.html\n",
      "  from .autonotebook import tqdm as notebook_tqdm\n"
     ]
    }
   ],
   "execution_count": 1
  },
  {
   "metadata": {
    "ExecuteTime": {
     "end_time": "2025-04-08T07:50:21.942164Z",
     "start_time": "2025-04-08T07:50:21.838072Z"
    }
   },
   "cell_type": "code",
   "source": "torch.cuda.get_device_name()",
   "id": "854064969aa01769",
   "outputs": [
    {
     "data": {
      "text/plain": [
       "'NVIDIA GeForce RTX 4090'"
      ]
     },
     "execution_count": 2,
     "metadata": {},
     "output_type": "execute_result"
    }
   ],
   "execution_count": 2
  },
  {
   "metadata": {
    "ExecuteTime": {
     "end_time": "2025-04-08T07:03:34.700821Z",
     "start_time": "2025-04-08T07:03:34.699512Z"
    }
   },
   "cell_type": "code",
   "source": "",
   "id": "a65e2077680358ed",
   "outputs": [],
   "execution_count": 3
  },
  {
   "metadata": {
    "ExecuteTime": {
     "end_time": "2025-04-08T07:50:27.336126Z",
     "start_time": "2025-04-08T07:50:23.302764Z"
    }
   },
   "cell_type": "code",
   "source": [
    "model_id = \"google/gemma-3-12b-it\"\n",
    "\n",
    "model = Gemma3ForConditionalGeneration.from_pretrained(\n",
    "    model_id, device_map=\"cuda:0\"\n",
    ").eval()\n",
    "\n",
    "processor = AutoProcessor.from_pretrained(model_id)"
   ],
   "id": "6ca2a4ffaf3ee79e",
   "outputs": [
    {
     "name": "stderr",
     "output_type": "stream",
     "text": [
      "Loading checkpoint shards:  40%|████      | 2/5 [00:03<00:04,  1.58s/it]\n"
     ]
    },
    {
     "ename": "OutOfMemoryError",
     "evalue": "CUDA out of memory. Tried to allocate 226.00 MiB. GPU 0 has a total capacity of 23.64 GiB of which 125.19 MiB is free. Process 1944321 has 3.65 GiB memory in use. Process 3705219 has 19.47 GiB memory in use. Of the allocated memory 18.57 GiB is allocated by PyTorch, and 468.25 MiB is reserved by PyTorch but unallocated. If reserved but unallocated memory is large try setting PYTORCH_CUDA_ALLOC_CONF=expandable_segments:True to avoid fragmentation.  See documentation for Memory Management  (https://pytorch.org/docs/stable/notes/cuda.html#environment-variables)",
     "output_type": "error",
     "traceback": [
      "\u001B[0;31m---------------------------------------------------------------------------\u001B[0m",
      "\u001B[0;31mOutOfMemoryError\u001B[0m                          Traceback (most recent call last)",
      "Cell \u001B[0;32mIn[3], line 3\u001B[0m\n\u001B[1;32m      1\u001B[0m model_id \u001B[38;5;241m=\u001B[39m \u001B[38;5;124m\"\u001B[39m\u001B[38;5;124mgoogle/gemma-3-12b-it\u001B[39m\u001B[38;5;124m\"\u001B[39m\n\u001B[0;32m----> 3\u001B[0m model \u001B[38;5;241m=\u001B[39m \u001B[43mGemma3ForConditionalGeneration\u001B[49m\u001B[38;5;241;43m.\u001B[39;49m\u001B[43mfrom_pretrained\u001B[49m\u001B[43m(\u001B[49m\n\u001B[1;32m      4\u001B[0m \u001B[43m    \u001B[49m\u001B[43mmodel_id\u001B[49m\u001B[43m,\u001B[49m\u001B[43m \u001B[49m\u001B[43mdevice_map\u001B[49m\u001B[38;5;241;43m=\u001B[39;49m\u001B[38;5;124;43m\"\u001B[39;49m\u001B[38;5;124;43mcuda:0\u001B[39;49m\u001B[38;5;124;43m\"\u001B[39;49m\n\u001B[1;32m      5\u001B[0m \u001B[43m)\u001B[49m\u001B[38;5;241m.\u001B[39meval()\n\u001B[1;32m      7\u001B[0m processor \u001B[38;5;241m=\u001B[39m AutoProcessor\u001B[38;5;241m.\u001B[39mfrom_pretrained(model_id)\n",
      "File \u001B[0;32m~/.virtualenvs/TESTSSH/lib/python3.10/site-packages/transformers/modeling_utils.py:272\u001B[0m, in \u001B[0;36mrestore_default_torch_dtype.<locals>._wrapper\u001B[0;34m(*args, **kwargs)\u001B[0m\n\u001B[1;32m    270\u001B[0m old_dtype \u001B[38;5;241m=\u001B[39m torch\u001B[38;5;241m.\u001B[39mget_default_dtype()\n\u001B[1;32m    271\u001B[0m \u001B[38;5;28;01mtry\u001B[39;00m:\n\u001B[0;32m--> 272\u001B[0m     \u001B[38;5;28;01mreturn\u001B[39;00m \u001B[43mfunc\u001B[49m\u001B[43m(\u001B[49m\u001B[38;5;241;43m*\u001B[39;49m\u001B[43margs\u001B[49m\u001B[43m,\u001B[49m\u001B[43m \u001B[49m\u001B[38;5;241;43m*\u001B[39;49m\u001B[38;5;241;43m*\u001B[39;49m\u001B[43mkwargs\u001B[49m\u001B[43m)\u001B[49m\n\u001B[1;32m    273\u001B[0m \u001B[38;5;28;01mfinally\u001B[39;00m:\n\u001B[1;32m    274\u001B[0m     torch\u001B[38;5;241m.\u001B[39mset_default_dtype(old_dtype)\n",
      "File \u001B[0;32m~/.virtualenvs/TESTSSH/lib/python3.10/site-packages/transformers/modeling_utils.py:4455\u001B[0m, in \u001B[0;36mPreTrainedModel.from_pretrained\u001B[0;34m(cls, pretrained_model_name_or_path, config, cache_dir, ignore_mismatched_sizes, force_download, local_files_only, token, revision, use_safetensors, weights_only, *model_args, **kwargs)\u001B[0m\n\u001B[1;32m   4445\u001B[0m     \u001B[38;5;28;01mif\u001B[39;00m dtype_orig \u001B[38;5;129;01mis\u001B[39;00m \u001B[38;5;129;01mnot\u001B[39;00m \u001B[38;5;28;01mNone\u001B[39;00m:\n\u001B[1;32m   4446\u001B[0m         torch\u001B[38;5;241m.\u001B[39mset_default_dtype(dtype_orig)\n\u001B[1;32m   4448\u001B[0m     (\n\u001B[1;32m   4449\u001B[0m         model,\n\u001B[1;32m   4450\u001B[0m         missing_keys,\n\u001B[1;32m   4451\u001B[0m         unexpected_keys,\n\u001B[1;32m   4452\u001B[0m         mismatched_keys,\n\u001B[1;32m   4453\u001B[0m         offload_index,\n\u001B[1;32m   4454\u001B[0m         error_msgs,\n\u001B[0;32m-> 4455\u001B[0m     ) \u001B[38;5;241m=\u001B[39m \u001B[38;5;28;43mcls\u001B[39;49m\u001B[38;5;241;43m.\u001B[39;49m\u001B[43m_load_pretrained_model\u001B[49m\u001B[43m(\u001B[49m\n\u001B[1;32m   4456\u001B[0m \u001B[43m        \u001B[49m\u001B[43mmodel\u001B[49m\u001B[43m,\u001B[49m\n\u001B[1;32m   4457\u001B[0m \u001B[43m        \u001B[49m\u001B[43mstate_dict\u001B[49m\u001B[43m,\u001B[49m\n\u001B[1;32m   4458\u001B[0m \u001B[43m        \u001B[49m\u001B[43mcheckpoint_files\u001B[49m\u001B[43m,\u001B[49m\n\u001B[1;32m   4459\u001B[0m \u001B[43m        \u001B[49m\u001B[43mpretrained_model_name_or_path\u001B[49m\u001B[43m,\u001B[49m\n\u001B[1;32m   4460\u001B[0m \u001B[43m        \u001B[49m\u001B[43mignore_mismatched_sizes\u001B[49m\u001B[38;5;241;43m=\u001B[39;49m\u001B[43mignore_mismatched_sizes\u001B[49m\u001B[43m,\u001B[49m\n\u001B[1;32m   4461\u001B[0m \u001B[43m        \u001B[49m\u001B[43msharded_metadata\u001B[49m\u001B[38;5;241;43m=\u001B[39;49m\u001B[43msharded_metadata\u001B[49m\u001B[43m,\u001B[49m\n\u001B[1;32m   4462\u001B[0m \u001B[43m        \u001B[49m\u001B[43mlow_cpu_mem_usage\u001B[49m\u001B[38;5;241;43m=\u001B[39;49m\u001B[43mlow_cpu_mem_usage\u001B[49m\u001B[43m,\u001B[49m\n\u001B[1;32m   4463\u001B[0m \u001B[43m        \u001B[49m\u001B[43mdevice_map\u001B[49m\u001B[38;5;241;43m=\u001B[39;49m\u001B[43mdevice_map\u001B[49m\u001B[43m,\u001B[49m\n\u001B[1;32m   4464\u001B[0m \u001B[43m        \u001B[49m\u001B[43mdisk_offload_folder\u001B[49m\u001B[38;5;241;43m=\u001B[39;49m\u001B[43moffload_folder\u001B[49m\u001B[43m,\u001B[49m\n\u001B[1;32m   4465\u001B[0m \u001B[43m        \u001B[49m\u001B[43moffload_state_dict\u001B[49m\u001B[38;5;241;43m=\u001B[39;49m\u001B[43moffload_state_dict\u001B[49m\u001B[43m,\u001B[49m\n\u001B[1;32m   4466\u001B[0m \u001B[43m        \u001B[49m\u001B[43mdtype\u001B[49m\u001B[38;5;241;43m=\u001B[39;49m\u001B[43mtorch_dtype\u001B[49m\u001B[43m,\u001B[49m\n\u001B[1;32m   4467\u001B[0m \u001B[43m        \u001B[49m\u001B[43mhf_quantizer\u001B[49m\u001B[38;5;241;43m=\u001B[39;49m\u001B[43mhf_quantizer\u001B[49m\u001B[43m,\u001B[49m\n\u001B[1;32m   4468\u001B[0m \u001B[43m        \u001B[49m\u001B[43mkeep_in_fp32_modules\u001B[49m\u001B[38;5;241;43m=\u001B[39;49m\u001B[43mkeep_in_fp32_modules\u001B[49m\u001B[43m,\u001B[49m\n\u001B[1;32m   4469\u001B[0m \u001B[43m        \u001B[49m\u001B[43mdevice_mesh\u001B[49m\u001B[38;5;241;43m=\u001B[39;49m\u001B[43mdevice_mesh\u001B[49m\u001B[43m,\u001B[49m\n\u001B[1;32m   4470\u001B[0m \u001B[43m        \u001B[49m\u001B[43mkey_mapping\u001B[49m\u001B[38;5;241;43m=\u001B[39;49m\u001B[43mkey_mapping\u001B[49m\u001B[43m,\u001B[49m\n\u001B[1;32m   4471\u001B[0m \u001B[43m        \u001B[49m\u001B[43mweights_only\u001B[49m\u001B[38;5;241;43m=\u001B[39;49m\u001B[43mweights_only\u001B[49m\u001B[43m,\u001B[49m\n\u001B[1;32m   4472\u001B[0m \u001B[43m        \u001B[49m\u001B[43m_fast_init\u001B[49m\u001B[38;5;241;43m=\u001B[39;49m\u001B[43m_fast_init\u001B[49m\u001B[43m,\u001B[49m\n\u001B[1;32m   4473\u001B[0m \u001B[43m    \u001B[49m\u001B[43m)\u001B[49m\n\u001B[1;32m   4475\u001B[0m \u001B[38;5;66;03m# make sure token embedding weights are still tied if needed\u001B[39;00m\n\u001B[1;32m   4476\u001B[0m model\u001B[38;5;241m.\u001B[39mtie_weights()\n",
      "File \u001B[0;32m~/.virtualenvs/TESTSSH/lib/python3.10/site-packages/transformers/modeling_utils.py:4884\u001B[0m, in \u001B[0;36mPreTrainedModel._load_pretrained_model\u001B[0;34m(cls, model, state_dict, checkpoint_files, pretrained_model_name_or_path, ignore_mismatched_sizes, sharded_metadata, low_cpu_mem_usage, device_map, disk_offload_folder, offload_state_dict, dtype, hf_quantizer, keep_in_fp32_modules, device_mesh, key_mapping, weights_only, _fast_init)\u001B[0m\n\u001B[1;32m   4881\u001B[0m \u001B[38;5;28;01mif\u001B[39;00m low_cpu_mem_usage:\n\u001B[1;32m   4882\u001B[0m     \u001B[38;5;66;03m# Skip it with fsdp on ranks other than 0\u001B[39;00m\n\u001B[1;32m   4883\u001B[0m     \u001B[38;5;28;01mif\u001B[39;00m \u001B[38;5;129;01mnot\u001B[39;00m (is_fsdp_enabled() \u001B[38;5;129;01mand\u001B[39;00m \u001B[38;5;129;01mnot\u001B[39;00m is_local_dist_rank_0() \u001B[38;5;129;01mand\u001B[39;00m \u001B[38;5;129;01mnot\u001B[39;00m is_quantized):\n\u001B[0;32m-> 4884\u001B[0m         disk_offload_index, cpu_offload_index \u001B[38;5;241m=\u001B[39m \u001B[43m_load_state_dict_into_meta_model\u001B[49m\u001B[43m(\u001B[49m\n\u001B[1;32m   4885\u001B[0m \u001B[43m            \u001B[49m\u001B[43mmodel_to_load\u001B[49m\u001B[43m,\u001B[49m\n\u001B[1;32m   4886\u001B[0m \u001B[43m            \u001B[49m\u001B[43mstate_dict\u001B[49m\u001B[43m,\u001B[49m\n\u001B[1;32m   4887\u001B[0m \u001B[43m            \u001B[49m\u001B[43mshard_file\u001B[49m\u001B[43m,\u001B[49m\n\u001B[1;32m   4888\u001B[0m \u001B[43m            \u001B[49m\u001B[43mexpected_keys\u001B[49m\u001B[43m,\u001B[49m\n\u001B[1;32m   4889\u001B[0m \u001B[43m            \u001B[49m\u001B[43mreverse_key_renaming_mapping\u001B[49m\u001B[43m,\u001B[49m\n\u001B[1;32m   4890\u001B[0m \u001B[43m            \u001B[49m\u001B[43mdevice_map\u001B[49m\u001B[38;5;241;43m=\u001B[39;49m\u001B[43mdevice_map\u001B[49m\u001B[43m,\u001B[49m\n\u001B[1;32m   4891\u001B[0m \u001B[43m            \u001B[49m\u001B[43mdisk_offload_folder\u001B[49m\u001B[38;5;241;43m=\u001B[39;49m\u001B[43mdisk_offload_folder\u001B[49m\u001B[43m,\u001B[49m\n\u001B[1;32m   4892\u001B[0m \u001B[43m            \u001B[49m\u001B[43mdisk_offload_index\u001B[49m\u001B[38;5;241;43m=\u001B[39;49m\u001B[43mdisk_offload_index\u001B[49m\u001B[43m,\u001B[49m\n\u001B[1;32m   4893\u001B[0m \u001B[43m            \u001B[49m\u001B[43mcpu_offload_folder\u001B[49m\u001B[38;5;241;43m=\u001B[39;49m\u001B[43mcpu_offload_folder\u001B[49m\u001B[43m,\u001B[49m\n\u001B[1;32m   4894\u001B[0m \u001B[43m            \u001B[49m\u001B[43mcpu_offload_index\u001B[49m\u001B[38;5;241;43m=\u001B[39;49m\u001B[43mcpu_offload_index\u001B[49m\u001B[43m,\u001B[49m\n\u001B[1;32m   4895\u001B[0m \u001B[43m            \u001B[49m\u001B[43mhf_quantizer\u001B[49m\u001B[38;5;241;43m=\u001B[39;49m\u001B[43mhf_quantizer\u001B[49m\u001B[43m,\u001B[49m\n\u001B[1;32m   4896\u001B[0m \u001B[43m            \u001B[49m\u001B[43mis_safetensors\u001B[49m\u001B[38;5;241;43m=\u001B[39;49m\u001B[43mis_offloaded_safetensors\u001B[49m\u001B[43m,\u001B[49m\n\u001B[1;32m   4897\u001B[0m \u001B[43m            \u001B[49m\u001B[43mkeep_in_fp32_modules\u001B[49m\u001B[38;5;241;43m=\u001B[39;49m\u001B[43mkeep_in_fp32_modules\u001B[49m\u001B[43m,\u001B[49m\n\u001B[1;32m   4898\u001B[0m \u001B[43m            \u001B[49m\u001B[43munexpected_keys\u001B[49m\u001B[38;5;241;43m=\u001B[39;49m\u001B[43munexpected_keys\u001B[49m\u001B[43m,\u001B[49m\n\u001B[1;32m   4899\u001B[0m \u001B[43m            \u001B[49m\u001B[43mdevice_mesh\u001B[49m\u001B[38;5;241;43m=\u001B[39;49m\u001B[43mdevice_mesh\u001B[49m\u001B[43m,\u001B[49m\n\u001B[1;32m   4900\u001B[0m \u001B[43m        \u001B[49m\u001B[43m)\u001B[49m\n\u001B[1;32m   4901\u001B[0m \u001B[38;5;28;01melse\u001B[39;00m:\n\u001B[1;32m   4902\u001B[0m     assign_params \u001B[38;5;241m=\u001B[39m check_support_param_buffer_assignment(model_to_load, state_dict)\n",
      "File \u001B[0;32m~/.virtualenvs/TESTSSH/lib/python3.10/site-packages/torch/utils/_contextlib.py:116\u001B[0m, in \u001B[0;36mcontext_decorator.<locals>.decorate_context\u001B[0;34m(*args, **kwargs)\u001B[0m\n\u001B[1;32m    113\u001B[0m \u001B[38;5;129m@functools\u001B[39m\u001B[38;5;241m.\u001B[39mwraps(func)\n\u001B[1;32m    114\u001B[0m \u001B[38;5;28;01mdef\u001B[39;00m\u001B[38;5;250m \u001B[39m\u001B[38;5;21mdecorate_context\u001B[39m(\u001B[38;5;241m*\u001B[39margs, \u001B[38;5;241m*\u001B[39m\u001B[38;5;241m*\u001B[39mkwargs):\n\u001B[1;32m    115\u001B[0m     \u001B[38;5;28;01mwith\u001B[39;00m ctx_factory():\n\u001B[0;32m--> 116\u001B[0m         \u001B[38;5;28;01mreturn\u001B[39;00m \u001B[43mfunc\u001B[49m\u001B[43m(\u001B[49m\u001B[38;5;241;43m*\u001B[39;49m\u001B[43margs\u001B[49m\u001B[43m,\u001B[49m\u001B[43m \u001B[49m\u001B[38;5;241;43m*\u001B[39;49m\u001B[38;5;241;43m*\u001B[39;49m\u001B[43mkwargs\u001B[49m\u001B[43m)\u001B[49m\n",
      "File \u001B[0;32m~/.virtualenvs/TESTSSH/lib/python3.10/site-packages/transformers/modeling_utils.py:816\u001B[0m, in \u001B[0;36m_load_state_dict_into_meta_model\u001B[0;34m(model, state_dict, shard_file, expected_keys, reverse_renaming_mapping, device_map, disk_offload_folder, disk_offload_index, cpu_offload_folder, cpu_offload_index, hf_quantizer, is_safetensors, keep_in_fp32_modules, unexpected_keys, device_mesh)\u001B[0m\n\u001B[1;32m    814\u001B[0m param \u001B[38;5;241m=\u001B[39m param[\u001B[38;5;241m.\u001B[39m\u001B[38;5;241m.\u001B[39m\u001B[38;5;241m.\u001B[39m]\n\u001B[1;32m    815\u001B[0m \u001B[38;5;28;01mif\u001B[39;00m casting_dtype \u001B[38;5;129;01mis\u001B[39;00m \u001B[38;5;129;01mnot\u001B[39;00m \u001B[38;5;28;01mNone\u001B[39;00m:\n\u001B[0;32m--> 816\u001B[0m     param \u001B[38;5;241m=\u001B[39m \u001B[43mparam\u001B[49m\u001B[38;5;241;43m.\u001B[39;49m\u001B[43mto\u001B[49m\u001B[43m(\u001B[49m\u001B[43mcasting_dtype\u001B[49m\u001B[43m)\u001B[49m\n\u001B[1;32m    817\u001B[0m \u001B[38;5;28;01mif\u001B[39;00m to_contiguous:\n\u001B[1;32m    818\u001B[0m     param \u001B[38;5;241m=\u001B[39m param\u001B[38;5;241m.\u001B[39mcontiguous()\n",
      "\u001B[0;31mOutOfMemoryError\u001B[0m: CUDA out of memory. Tried to allocate 226.00 MiB. GPU 0 has a total capacity of 23.64 GiB of which 125.19 MiB is free. Process 1944321 has 3.65 GiB memory in use. Process 3705219 has 19.47 GiB memory in use. Of the allocated memory 18.57 GiB is allocated by PyTorch, and 468.25 MiB is reserved by PyTorch but unallocated. If reserved but unallocated memory is large try setting PYTORCH_CUDA_ALLOC_CONF=expandable_segments:True to avoid fragmentation.  See documentation for Memory Management  (https://pytorch.org/docs/stable/notes/cuda.html#environment-variables)"
     ]
    }
   ],
   "execution_count": 3
  },
  {
   "metadata": {
    "ExecuteTime": {
     "end_time": "2025-04-08T07:46:49.739180Z",
     "start_time": "2025-04-08T07:46:49.737062Z"
    }
   },
   "cell_type": "code",
   "source": "os.environ['CUDA_LAUNCH_BLOCKING'] = '1'",
   "id": "5d44f234d0b5b06",
   "outputs": [],
   "execution_count": 4
  },
  {
   "metadata": {
    "ExecuteTime": {
     "end_time": "2025-04-08T07:46:50.754018Z",
     "start_time": "2025-04-08T07:46:50.744219Z"
    }
   },
   "cell_type": "code",
   "source": "torch.cuda.empty_cache()",
   "id": "4bbf9b1256eb7935",
   "outputs": [],
   "execution_count": 5
  },
  {
   "metadata": {
    "ExecuteTime": {
     "end_time": "2025-04-08T07:46:51.745118Z",
     "start_time": "2025-04-08T07:46:51.687036Z"
    }
   },
   "cell_type": "code",
   "source": "model.cuda()",
   "id": "b949526355761d79",
   "outputs": [
    {
     "name": "stderr",
     "output_type": "stream",
     "text": [
      "You shouldn't move a model that is dispatched using accelerate hooks.\n"
     ]
    },
    {
     "ename": "RuntimeError",
     "evalue": "You can't move a model that has some modules offloaded to cpu or disk.",
     "output_type": "error",
     "traceback": [
      "\u001B[0;31m---------------------------------------------------------------------------\u001B[0m",
      "\u001B[0;31mRuntimeError\u001B[0m                              Traceback (most recent call last)",
      "Cell \u001B[0;32mIn[6], line 1\u001B[0m\n\u001B[0;32m----> 1\u001B[0m \u001B[43mmodel\u001B[49m\u001B[38;5;241;43m.\u001B[39;49m\u001B[43mcuda\u001B[49m\u001B[43m(\u001B[49m\u001B[43m)\u001B[49m\n",
      "File \u001B[0;32m~/.virtualenvs/TESTSSH/lib/python3.10/site-packages/accelerate/big_modeling.py:459\u001B[0m, in \u001B[0;36mdispatch_model.<locals>.add_warning.<locals>.wrapper\u001B[0;34m(*args, **kwargs)\u001B[0m\n\u001B[1;32m    457\u001B[0m \u001B[38;5;28;01mfor\u001B[39;00m param \u001B[38;5;129;01min\u001B[39;00m model\u001B[38;5;241m.\u001B[39mparameters():\n\u001B[1;32m    458\u001B[0m     \u001B[38;5;28;01mif\u001B[39;00m param\u001B[38;5;241m.\u001B[39mdevice \u001B[38;5;241m==\u001B[39m torch\u001B[38;5;241m.\u001B[39mdevice(\u001B[38;5;124m\"\u001B[39m\u001B[38;5;124mmeta\u001B[39m\u001B[38;5;124m\"\u001B[39m):\n\u001B[0;32m--> 459\u001B[0m         \u001B[38;5;28;01mraise\u001B[39;00m \u001B[38;5;167;01mRuntimeError\u001B[39;00m(\u001B[38;5;124m\"\u001B[39m\u001B[38;5;124mYou can\u001B[39m\u001B[38;5;124m'\u001B[39m\u001B[38;5;124mt move a model that has some modules offloaded to cpu or disk.\u001B[39m\u001B[38;5;124m\"\u001B[39m)\n\u001B[1;32m    460\u001B[0m \u001B[38;5;28;01mreturn\u001B[39;00m fn(\u001B[38;5;241m*\u001B[39margs, \u001B[38;5;241m*\u001B[39m\u001B[38;5;241m*\u001B[39mkwargs)\n",
      "\u001B[0;31mRuntimeError\u001B[0m: You can't move a model that has some modules offloaded to cpu or disk."
     ]
    }
   ],
   "execution_count": 6
  },
  {
   "metadata": {},
   "cell_type": "markdown",
   "source": "# 準備資料",
   "id": "3701f8fa39a42111"
  },
  {
   "metadata": {
    "ExecuteTime": {
     "end_time": "2025-04-08T07:18:52.380662800Z",
     "start_time": "2025-04-08T06:22:45.405243Z"
    }
   },
   "cell_type": "code",
   "source": [
    "import pandas as pd\n",
    "from PIL import Image\n",
    "import numpy as np\n",
    "import torch\n",
    "from torch.utils.data import Dataset, DataLoader"
   ],
   "id": "ef76f0c5de532845",
   "outputs": [],
   "execution_count": 6
  },
  {
   "metadata": {
    "ExecuteTime": {
     "end_time": "2025-04-08T07:18:52.380662800Z",
     "start_time": "2025-04-08T06:22:46.395656Z"
    }
   },
   "cell_type": "code",
   "source": [
    "file_locate = \"/tmp/pycharm_project_159/\" #遠端環境\n",
    "\n",
    "images = os.listdir(file_locate + \"/dataset/擊球數據整理/images\")\n",
    "Inputs = pd.read_csv(file_locate + \"/dataset/擊球數據整理/question_Input.csv\")\n",
    "\n",
    "init_prompt = open(file_locate + \"/dataset/init_prompt.txt\").read()\n",
    "rule = pd.read_excel(file_locate + \"/dataset/回饋規則.xlsx\")"
   ],
   "id": "e0b43788bde9daf0",
   "outputs": [],
   "execution_count": 7
  },
  {
   "metadata": {
    "ExecuteTime": {
     "end_time": "2025-04-08T07:18:52.380662800Z",
     "start_time": "2025-04-08T03:05:28.787304Z"
    }
   },
   "cell_type": "code",
   "source": "rule",
   "id": "fb1b7509dbf6392b",
   "outputs": [
    {
     "data": {
      "text/plain": [
       "                球路類型   結果                                                 原因  \\\n",
       "0            Pull左飛球   失誤                                   上桿(P2~3)時，角度過於陡峭   \n",
       "1            Pull左飛球   失誤                                             桿頭頂點過高   \n",
       "2            Pull左飛球   失誤                           下桿角度過於陡峭，左手腕過度外展，肩關節伸展抬起   \n",
       "3            Pull左飛球   失誤                                     桿面關閉，擊球點位於球的外側   \n",
       "4     Pull Hook左拉左曲球   失誤                                   上桿(P2~3)時，角度過於陡峭   \n",
       "5     Pull Hook左拉左曲球   失誤                                             桿頭頂點過高   \n",
       "6     Pull Hook左拉左曲球   失誤                          下桿角度過於陡峭，手腕過度彎曲，過度由內而外的路徑   \n",
       "7     Pull Hook左拉左曲球   失誤                         桿面關閉，擊球點位於球的外側，手腕繼續彎曲未保持向前   \n",
       "8   Pull Slice 左拉右曲球   失誤  通常是因為上桿時P2過於內側，手臂和身體過於靠近卡住之後，反而在下桿時由外側下桿、或是軸心偏...   \n",
       "9   Pull Slice 左拉右曲球   失誤                                           擺動路徑過於內向   \n",
       "10  Pull Slice 左拉右曲球   失誤                                           下桿時由外側下桿   \n",
       "11  Pull Slice 左拉右曲球   失誤                              觸球時桿面角度關閉，但桿面角度小於揮桿軌跡   \n",
       "12           Push右飛球   失誤                    上桿(P2~3)時，角度過於平緩，手腕過度內收，未保持適當角度   \n",
       "13           Push右飛球   失誤                               P4頂點轉換時桿頭頂點過低，手腕過度彎曲   \n",
       "14           Push右飛球   失誤               P5~6下桿角度過於平緩，手腕未回復成預備站姿的角度，手用力而非肩膀轉動   \n",
       "15           Push右飛球   失誤                         P7擊球時桿面開放，擊球點位於球的內側，左手腕未固定   \n",
       "16   Push Slice右拉右曲球   失誤            上桿(P2~3)時，角度過於平緩，手腕過度內收，未保持適當角度，肩或腰旋轉過度   \n",
       "17   Push Slice右拉右曲球   失誤                           P4頂點轉換時，桿頭頂點過低，腰部或手腕過度彎曲   \n",
       "18   Push Slice右拉右曲球   失誤   P5~6下桿角度過於平緩，左手腕過度外展，肩關節伸展抬起，腰部向前旋轉過度，身體重心太早向前移動   \n",
       "19   Push Slice右拉右曲球   失誤                         P7擊球時桿面開放，擊球點位於球的內側，左手腕未固定   \n",
       "20   Push Hook 右拉左曲球   失誤  上桿往內側，然後再由內側透過手腕的翻轉使球往左旋。有時為了修正由外往內的揮桿路徑會刻意打出這...   \n",
       "21   Push Hook 右拉左曲球   失誤                                        桿頭在頂點位置過於內側   \n",
       "22   Push Hook 右拉左曲球   失誤                            開始下揮時，身體未能正確同步旋轉，桿面過於閉合   \n",
       "23   Push Hook 右拉左曲球   失誤                              桿面打開軌跡由內向外，桿面角度小於揮桿路徑   \n",
       "24               NaN  NaN                                                NaN   \n",
       "25      Straight 直飛球   正確                          每個階段動作的位置和時間都配合得很好，且節奏流暢。   \n",
       "26         Fade 小右曲球   正確                      手腕角度保持得很好，桿面觸球方正，且揮桿軌跡由外向內所致。   \n",
       "27         Draw 小左曲球   正確                     手腕角度保持得很好，觸球時桿面方正，且揮桿軌跡由內向外所致。   \n",
       "\n",
       "                                                 改善建議  \n",
       "0                                    上桿(P2~3)時，肩膀往右轉動  \n",
       "1                                              肩膀往右轉動  \n",
       "2                            下桿時，左手臂打直、左手腕維持固定、肩膀自然旋轉  \n",
       "3                                 擊球時，左手腕維持固定，注意擊球點位置  \n",
       "4                                    上桿(P2~3)時，肩膀往右轉動  \n",
       "5                                             肩膀請往右轉動  \n",
       "6                                   下桿時，左手臂打直、左手腕維持固定  \n",
       "7                          擊球時，左手腕應恢復成未彎曲的狀態，及注意擊球點位置  \n",
       "8                       上桿時維持軸心，P2時桿身平行於雙腳之平行線，保持桿面角度  \n",
       "9                                         胸椎充分旋轉，重心往左  \n",
       "10                        P5至P6右肩和右手肘維持外旋，左手腕在P5.5時屈曲  \n",
       "11                                    維持手腕角度過球轉身至收尾收桿  \n",
       "12                    上桿(P2~3)時，角度過於平緩，手腕過度內收，未保持適當角度  \n",
       "13                                     左手腕維持固定，腰部減少轉動  \n",
       "14                                      下桿時，手腕及肩膀往左轉動  \n",
       "15                                擊球時，左手腕維持固定，注意擊球點位置  \n",
       "16  避免過度用力和緊繃：上杆至90度胸口即可，不需強迫手部過高。保持身體放鬆，避免上杆時緊繃，以...  \n",
       "17                                     左手腕維持固定，腰部減少轉動  \n",
       "18                               下桿時，手腕及肩膀往左轉動，腰部減少旋轉  \n",
       "19                                擊球時，左手腕維持固定，注意擊球點位置  \n",
       "20                                     上桿時維持軸心，保持桿面角度  \n",
       "21                                      胸椎充分旋轉，保持桿頭方正  \n",
       "22                           下桿時，從臀部開始動作，保持下半身與上半身的協調  \n",
       "23                        注重在接近擊球點時，保持下半身的穩定與桿面的正確閉合度  \n",
       "24                                                NaN  \n",
       "25                                       多練習且重複此揮桿動作。  \n",
       "26  這次上杆高度適中且動作流暢，下杆時也保持穩定。教練指出這是由於下半身主導力量，使擊球姿勢自然...  \n",
       "27  這是職業選手喜歡打出的球路，瞄球時桿面朝向目標，站姿朝向目標右方，上桿時維持軸心，P2至P4...  "
      ],
      "text/html": [
       "<div>\n",
       "<style scoped>\n",
       "    .dataframe tbody tr th:only-of-type {\n",
       "        vertical-align: middle;\n",
       "    }\n",
       "\n",
       "    .dataframe tbody tr th {\n",
       "        vertical-align: top;\n",
       "    }\n",
       "\n",
       "    .dataframe thead th {\n",
       "        text-align: right;\n",
       "    }\n",
       "</style>\n",
       "<table border=\"1\" class=\"dataframe\">\n",
       "  <thead>\n",
       "    <tr style=\"text-align: right;\">\n",
       "      <th></th>\n",
       "      <th>球路類型</th>\n",
       "      <th>結果</th>\n",
       "      <th>原因</th>\n",
       "      <th>改善建議</th>\n",
       "    </tr>\n",
       "  </thead>\n",
       "  <tbody>\n",
       "    <tr>\n",
       "      <th>0</th>\n",
       "      <td>Pull左飛球</td>\n",
       "      <td>失誤</td>\n",
       "      <td>上桿(P2~3)時，角度過於陡峭</td>\n",
       "      <td>上桿(P2~3)時，肩膀往右轉動</td>\n",
       "    </tr>\n",
       "    <tr>\n",
       "      <th>1</th>\n",
       "      <td>Pull左飛球</td>\n",
       "      <td>失誤</td>\n",
       "      <td>桿頭頂點過高</td>\n",
       "      <td>肩膀往右轉動</td>\n",
       "    </tr>\n",
       "    <tr>\n",
       "      <th>2</th>\n",
       "      <td>Pull左飛球</td>\n",
       "      <td>失誤</td>\n",
       "      <td>下桿角度過於陡峭，左手腕過度外展，肩關節伸展抬起</td>\n",
       "      <td>下桿時，左手臂打直、左手腕維持固定、肩膀自然旋轉</td>\n",
       "    </tr>\n",
       "    <tr>\n",
       "      <th>3</th>\n",
       "      <td>Pull左飛球</td>\n",
       "      <td>失誤</td>\n",
       "      <td>桿面關閉，擊球點位於球的外側</td>\n",
       "      <td>擊球時，左手腕維持固定，注意擊球點位置</td>\n",
       "    </tr>\n",
       "    <tr>\n",
       "      <th>4</th>\n",
       "      <td>Pull Hook左拉左曲球</td>\n",
       "      <td>失誤</td>\n",
       "      <td>上桿(P2~3)時，角度過於陡峭</td>\n",
       "      <td>上桿(P2~3)時，肩膀往右轉動</td>\n",
       "    </tr>\n",
       "    <tr>\n",
       "      <th>5</th>\n",
       "      <td>Pull Hook左拉左曲球</td>\n",
       "      <td>失誤</td>\n",
       "      <td>桿頭頂點過高</td>\n",
       "      <td>肩膀請往右轉動</td>\n",
       "    </tr>\n",
       "    <tr>\n",
       "      <th>6</th>\n",
       "      <td>Pull Hook左拉左曲球</td>\n",
       "      <td>失誤</td>\n",
       "      <td>下桿角度過於陡峭，手腕過度彎曲，過度由內而外的路徑</td>\n",
       "      <td>下桿時，左手臂打直、左手腕維持固定</td>\n",
       "    </tr>\n",
       "    <tr>\n",
       "      <th>7</th>\n",
       "      <td>Pull Hook左拉左曲球</td>\n",
       "      <td>失誤</td>\n",
       "      <td>桿面關閉，擊球點位於球的外側，手腕繼續彎曲未保持向前</td>\n",
       "      <td>擊球時，左手腕應恢復成未彎曲的狀態，及注意擊球點位置</td>\n",
       "    </tr>\n",
       "    <tr>\n",
       "      <th>8</th>\n",
       "      <td>Pull Slice 左拉右曲球</td>\n",
       "      <td>失誤</td>\n",
       "      <td>通常是因為上桿時P2過於內側，手臂和身體過於靠近卡住之後，反而在下桿時由外側下桿、或是軸心偏...</td>\n",
       "      <td>上桿時維持軸心，P2時桿身平行於雙腳之平行線，保持桿面角度</td>\n",
       "    </tr>\n",
       "    <tr>\n",
       "      <th>9</th>\n",
       "      <td>Pull Slice 左拉右曲球</td>\n",
       "      <td>失誤</td>\n",
       "      <td>擺動路徑過於內向</td>\n",
       "      <td>胸椎充分旋轉，重心往左</td>\n",
       "    </tr>\n",
       "    <tr>\n",
       "      <th>10</th>\n",
       "      <td>Pull Slice 左拉右曲球</td>\n",
       "      <td>失誤</td>\n",
       "      <td>下桿時由外側下桿</td>\n",
       "      <td>P5至P6右肩和右手肘維持外旋，左手腕在P5.5時屈曲</td>\n",
       "    </tr>\n",
       "    <tr>\n",
       "      <th>11</th>\n",
       "      <td>Pull Slice 左拉右曲球</td>\n",
       "      <td>失誤</td>\n",
       "      <td>觸球時桿面角度關閉，但桿面角度小於揮桿軌跡</td>\n",
       "      <td>維持手腕角度過球轉身至收尾收桿</td>\n",
       "    </tr>\n",
       "    <tr>\n",
       "      <th>12</th>\n",
       "      <td>Push右飛球</td>\n",
       "      <td>失誤</td>\n",
       "      <td>上桿(P2~3)時，角度過於平緩，手腕過度內收，未保持適當角度</td>\n",
       "      <td>上桿(P2~3)時，角度過於平緩，手腕過度內收，未保持適當角度</td>\n",
       "    </tr>\n",
       "    <tr>\n",
       "      <th>13</th>\n",
       "      <td>Push右飛球</td>\n",
       "      <td>失誤</td>\n",
       "      <td>P4頂點轉換時桿頭頂點過低，手腕過度彎曲</td>\n",
       "      <td>左手腕維持固定，腰部減少轉動</td>\n",
       "    </tr>\n",
       "    <tr>\n",
       "      <th>14</th>\n",
       "      <td>Push右飛球</td>\n",
       "      <td>失誤</td>\n",
       "      <td>P5~6下桿角度過於平緩，手腕未回復成預備站姿的角度，手用力而非肩膀轉動</td>\n",
       "      <td>下桿時，手腕及肩膀往左轉動</td>\n",
       "    </tr>\n",
       "    <tr>\n",
       "      <th>15</th>\n",
       "      <td>Push右飛球</td>\n",
       "      <td>失誤</td>\n",
       "      <td>P7擊球時桿面開放，擊球點位於球的內側，左手腕未固定</td>\n",
       "      <td>擊球時，左手腕維持固定，注意擊球點位置</td>\n",
       "    </tr>\n",
       "    <tr>\n",
       "      <th>16</th>\n",
       "      <td>Push Slice右拉右曲球</td>\n",
       "      <td>失誤</td>\n",
       "      <td>上桿(P2~3)時，角度過於平緩，手腕過度內收，未保持適當角度，肩或腰旋轉過度</td>\n",
       "      <td>避免過度用力和緊繃：上杆至90度胸口即可，不需強迫手部過高。保持身體放鬆，避免上杆時緊繃，以...</td>\n",
       "    </tr>\n",
       "    <tr>\n",
       "      <th>17</th>\n",
       "      <td>Push Slice右拉右曲球</td>\n",
       "      <td>失誤</td>\n",
       "      <td>P4頂點轉換時，桿頭頂點過低，腰部或手腕過度彎曲</td>\n",
       "      <td>左手腕維持固定，腰部減少轉動</td>\n",
       "    </tr>\n",
       "    <tr>\n",
       "      <th>18</th>\n",
       "      <td>Push Slice右拉右曲球</td>\n",
       "      <td>失誤</td>\n",
       "      <td>P5~6下桿角度過於平緩，左手腕過度外展，肩關節伸展抬起，腰部向前旋轉過度，身體重心太早向前移動</td>\n",
       "      <td>下桿時，手腕及肩膀往左轉動，腰部減少旋轉</td>\n",
       "    </tr>\n",
       "    <tr>\n",
       "      <th>19</th>\n",
       "      <td>Push Slice右拉右曲球</td>\n",
       "      <td>失誤</td>\n",
       "      <td>P7擊球時桿面開放，擊球點位於球的內側，左手腕未固定</td>\n",
       "      <td>擊球時，左手腕維持固定，注意擊球點位置</td>\n",
       "    </tr>\n",
       "    <tr>\n",
       "      <th>20</th>\n",
       "      <td>Push Hook 右拉左曲球</td>\n",
       "      <td>失誤</td>\n",
       "      <td>上桿往內側，然後再由內側透過手腕的翻轉使球往左旋。有時為了修正由外往內的揮桿路徑會刻意打出這...</td>\n",
       "      <td>上桿時維持軸心，保持桿面角度</td>\n",
       "    </tr>\n",
       "    <tr>\n",
       "      <th>21</th>\n",
       "      <td>Push Hook 右拉左曲球</td>\n",
       "      <td>失誤</td>\n",
       "      <td>桿頭在頂點位置過於內側</td>\n",
       "      <td>胸椎充分旋轉，保持桿頭方正</td>\n",
       "    </tr>\n",
       "    <tr>\n",
       "      <th>22</th>\n",
       "      <td>Push Hook 右拉左曲球</td>\n",
       "      <td>失誤</td>\n",
       "      <td>開始下揮時，身體未能正確同步旋轉，桿面過於閉合</td>\n",
       "      <td>下桿時，從臀部開始動作，保持下半身與上半身的協調</td>\n",
       "    </tr>\n",
       "    <tr>\n",
       "      <th>23</th>\n",
       "      <td>Push Hook 右拉左曲球</td>\n",
       "      <td>失誤</td>\n",
       "      <td>桿面打開軌跡由內向外，桿面角度小於揮桿路徑</td>\n",
       "      <td>注重在接近擊球點時，保持下半身的穩定與桿面的正確閉合度</td>\n",
       "    </tr>\n",
       "    <tr>\n",
       "      <th>24</th>\n",
       "      <td>NaN</td>\n",
       "      <td>NaN</td>\n",
       "      <td>NaN</td>\n",
       "      <td>NaN</td>\n",
       "    </tr>\n",
       "    <tr>\n",
       "      <th>25</th>\n",
       "      <td>Straight 直飛球</td>\n",
       "      <td>正確</td>\n",
       "      <td>每個階段動作的位置和時間都配合得很好，且節奏流暢。</td>\n",
       "      <td>多練習且重複此揮桿動作。</td>\n",
       "    </tr>\n",
       "    <tr>\n",
       "      <th>26</th>\n",
       "      <td>Fade 小右曲球</td>\n",
       "      <td>正確</td>\n",
       "      <td>手腕角度保持得很好，桿面觸球方正，且揮桿軌跡由外向內所致。</td>\n",
       "      <td>這次上杆高度適中且動作流暢，下杆時也保持穩定。教練指出這是由於下半身主導力量，使擊球姿勢自然...</td>\n",
       "    </tr>\n",
       "    <tr>\n",
       "      <th>27</th>\n",
       "      <td>Draw 小左曲球</td>\n",
       "      <td>正確</td>\n",
       "      <td>手腕角度保持得很好，觸球時桿面方正，且揮桿軌跡由內向外所致。</td>\n",
       "      <td>這是職業選手喜歡打出的球路，瞄球時桿面朝向目標，站姿朝向目標右方，上桿時維持軸心，P2至P4...</td>\n",
       "    </tr>\n",
       "  </tbody>\n",
       "</table>\n",
       "</div>"
      ]
     },
     "execution_count": 8,
     "metadata": {},
     "output_type": "execute_result"
    }
   ],
   "execution_count": 8
  },
  {
   "metadata": {
    "ExecuteTime": {
     "end_time": "2025-04-08T07:18:52.382663100Z",
     "start_time": "2025-04-08T06:22:48.727700Z"
    }
   },
   "cell_type": "code",
   "source": [
    "import base64\n",
    "\n",
    "def encode_base64(image):\n",
    "    with open(image, \"rb\") as f:\n",
    "        return base64.b64encode(f.read()).decode(\"utf-8\")"
   ],
   "id": "fb7484ccc8fdf911",
   "outputs": [],
   "execution_count": 8
  },
  {
   "metadata": {
    "ExecuteTime": {
     "end_time": "2025-04-08T07:18:52.395306600Z",
     "start_time": "2025-04-08T06:22:50.182800Z"
    }
   },
   "cell_type": "code",
   "source": [
    "class GolfDataset(Dataset):\n",
    "    def __init__(self, Input):\n",
    "        self.num = Input[\"num\"]\n",
    "        self.images = []\n",
    "        self.questions = Input[\"Input\"]\n",
    "        self.ground_truth = Input[\"GroundTruth\"]\n",
    "    def __len__(self):\n",
    "        return len(self.questions)\n",
    "    def __getitem__(self, idx):\n",
    "        num = self.num.iloc[idx]\n",
    "        question = self.questions.iloc[idx]\n",
    "        image = encode_base64(file_locate + \"/dataset/擊球數據整理/images/\"+\"combined_\" +str(self.num.iloc[idx]) + \".jpg\")\n",
    "        ground_truth = self.ground_truth.iloc[idx]\n",
    "        return num,image,question,ground_truth"
   ],
   "id": "c8296c7eacf1cfff",
   "outputs": [],
   "execution_count": 9
  },
  {
   "metadata": {
    "ExecuteTime": {
     "end_time": "2025-04-08T07:18:52.396815200Z",
     "start_time": "2025-04-08T06:22:51.503436Z"
    }
   },
   "cell_type": "code",
   "source": [
    "golf_dataset = GolfDataset(Inputs)\n",
    "golf_dataloader = DataLoader(golf_dataset, shuffle=False)"
   ],
   "id": "2f630f3ce649422d",
   "outputs": [],
   "execution_count": 10
  },
  {
   "metadata": {
    "ExecuteTime": {
     "end_time": "2025-04-08T07:18:52.397824600Z",
     "start_time": "2025-04-08T06:35:07.840233Z"
    }
   },
   "cell_type": "code",
   "source": [
    "result_df = pd.DataFrame()\n",
    "\n",
    "\n",
    "rule = str(rule)\n",
    "for num ,images , questions, ground_truth in golf_dataloader:\n",
    "    rule = str(rule)\n",
    "    images = str(images)\n",
    "    messages = [\n",
    "        {\n",
    "            \"role\": \"system\",\n",
    "            \"content\": [{\"type\": \"text\", \"text\": init_prompt+\"以下是回饋規則\"+rule}],\n",
    "        },\n",
    "        {\n",
    "          \"role\": \"user\",\n",
    "          \"content\": [\n",
    "                {\"type\": \"image\", \"base64\": images},\n",
    "                {\"type\": \"text\", \"text\": questions},\n",
    "            ],\n",
    "        },\n",
    "    ]\n",
    "    inputs = processor.apply_chat_template(\n",
    "        messages, add_generation_prompt=True, tokenize=True,\n",
    "        return_dict=True, return_tensors=\"pt\"\n",
    "    ).to(model.device, dtype=torch.bfloat16)\n",
    "    \n",
    "    input_len = inputs[\"input_ids\"].shape[-1]\n",
    "    \n",
    "    with torch.inference_mode():\n",
    "        generation = model.generate(\n",
    "            **inputs,\n",
    "            max_new_tokens=1024,\n",
    "            do_sample=True,\n",
    "            temperature=0.1\n",
    "        )\n",
    "        generation = generation[0][input_len:]\n",
    "    \n",
    "    decoded = processor.decode(generation, skip_special_tokens=True)\n",
    "    result_df = pd.concat([result_df, pd.DataFrame({\"num\":num, \"answer\":decoded})])\n",
    "    \n",
    "    result_df[\"answer\"] = result_df[\"answer\"].str.replace(\" \", \"\")  \n",
    "    print(decoded)\n",
    "    "
   ],
   "id": "ed7045112339de29",
   "outputs": [
    {
     "name": "stdout",
     "output_type": "stream",
     "text": [
      "好的，我將根據您提供的資訊進行分析，並提供詳細的口語化動作建議。\n",
      "\n",
      "**分析結果：**\n",
      "\n",
      "綜合觀察圖片和擊球數據，學員在P5~6下桿時，存在明顯的左拉左曲球問題。從正面和側面圖片觀察，發現學員在下桿時，左手腕過度外展，肩關節伸展抬起，導致桿面關閉，擊球點位於球的外側。球速和飛行距離數據顯示，球速為66.43，發射角度為7.198，發射方向為-6.172，飛行距離為179，ClubAngleFace為-15，ClubAnglePath為6.901，這些數據都指向左拉左曲球的傾向。\n",
      "\n",
      "**整合分析建議：**\n",
      "\n",
      "“您好，根據我們全面的揮杆分析，您的揮杆動作與教練大致相同，請繼續保持。然而您的揮杆有幾個地方可以加強。在您的P5~6下桿階段，考慮調整您的左手腕，試著讓它保持相對固定，不要過度外展，同時注意肩膀的自然旋轉，不要過度伸展。這將有助於改善您的擊球路徑，減少左拉左曲球的發生。另外，在下桿時，請嘗試利用臀部發力，而不是過早地向前傾身，這樣可以更好地協調身體的旋轉，保持揮桿的穩定性。”\n",
      "\n",
      "**具體調整建議：**\n",
      "\n",
      "“首先，讓我們從P5~6的下桿開始。當您準備擊球時，請意識到您的左手腕應該保持相對固定，不要過度彎曲或外展。想像一下，您的左手腕就像一個支撐點，幫助您保持揮桿的穩定性。同時，請注意您的肩膀，不要過度伸展，而是讓它們自然地旋轉。這就像一個轉盤，在旋轉過程中，您的手臂和身體會自然地跟著轉動。此外，在擊球時，請嘗試利用臀部發力，而不是過早地向前傾身。這樣可以更好地協調身體的旋轉，保持揮桿的穩定性，並減少左拉左曲球的發生。您可以想像一下，您的臀部就像一個動力源，在旋轉過程中，它會提供力量，幫助您擊出更正的球路。”\n",
      "\n",
      "**最終分析：**\n",
      "\n",
      "```json\n",
      "{\n",
      "        \"球路\": \"Pull Hook 左拉左曲球\",\n",
      "         \"原因\": \"下桿時，左手腕過度外展，肩關節伸展抬起，導致桿面關閉，擊球點位於球的外側。\",\n",
      "         \"建議\": \"在P5~6下桿時，請嘗試讓左手腕保持相對固定，不要過度外展，同時注意肩膀的自然旋轉，不要過度伸展。此外，在擊球時，請嘗試利用臀部發力，而不是過早地向前傾身，這將有助於改善您的擊球路徑，減少左拉左曲球的發生。\"\n",
      "}\n",
      "```\n",
      "\n",
      "好的，我將根據您提供的資訊進行分析，並提供詳細的口語化動作建議。\n",
      "\n",
      "**分析結果：**\n",
      "\n",
      "綜合觀察圖片和擊球數據，學員在P7擊球時，存在明顯的右拉右曲球（Slice）傾向。從正面和側面圖片觀察，可以發現肩膀在揮桿過程中過於外旋，導致桿面在擊球時過於打開，產生了右拉右曲球的現象。此外，擊球數據顯示ClubAngleFace為2.66，表明桿面有一定程度的開放，與球路方向不一致。\n",
      "\n",
      "**整合分析建議：**\n",
      "\n",
      "“您好，根據我們全面的揮杆分析，您的揮杆動作與教練大致相同，請繼續保持。然而您的揮杆有幾個地方可以加強。在您的P2~P4階段，考慮調整您的肩膀，試著在上桿時保持肩膀的軸心，避免過度外旋，這將有助於減少右拉右曲球的發生。具體來說，在上桿時，請意識到肩膀的旋轉應該是從核心出發，而不是完全依靠肩膀的力量來完成。同時，在P7擊球時，請注意手腕的固定，保持手腕的穩定，避免過度翻轉，這將有助於控制桿面的角度，讓球路更正。”\n",
      "\n",
      "**具體建議：**\n",
      "\n",
      "“首先，讓我們從上桿開始。請嘗試想像一根軸線穿過您的身體，從肩膀的中心位置延伸到手腕。在上桿時，請確保您的肩膀保持在這一軸線上，避免過度外旋。您可以通過想像自己像在搬運一個重物一樣，保持身體的穩定來幫助您控制肩膀的旋轉。其次，在擊球時，請意識到手腕的穩定性。請嘗試想像您的手腕像一個鎖一樣，保持固定不動，不要過度翻轉。這將有助於控制桿面的角度，讓球路更正。最後，請注意保持身體的整體協調性，避免過度用力或緊繃。放鬆的身體才能更好地傳遞力量，並保持揮杆的穩定性。”\n",
      "\n",
      "**最終分析：**\n",
      "\n",
      "{{\n",
      "        \"球路\": \"右拉右曲球\",\n",
      "         \"原因\": \"肩膀過度外旋，桿面打開，手腕未固定\",\n",
      "         \"建議\": \"在上桿時，保持肩膀的軸心，避免過度外旋；在擊球時，保持手腕的穩定，避免過度翻轉；保持身體的整體協調性，避免過度用力或緊繃。\"\n",
      "}}\n",
      "\n",
      "好的，我將根據您提供的資訊進行分析，並提供詳細的口語化動作建議。\n",
      "\n",
      "**分析結果：**\n",
      "\n",
      "綜合觀察正面和側面的圖片，以及擊球數據，學員在P4頂點轉換和P7擊球階段存在明顯的失誤。\n",
      "\n",
      "*   **P4頂點轉換：** 觀察圖片，學員的桿頭頂點過低，且腰部轉動過度，可能導致下桿時力量過大，產生右拉右曲球的傾向。\n",
      "*   **P7擊球：** 圖片顯示學員的桿面開放，擊球點位於球的內側。同時，左手腕未固定，可能導致球路偏左。\n",
      "\n",
      "擊球數據顯示ClubAngleFace為3.43，表明球路存在偏左的傾向。\n",
      "\n",
      "**整合分析建議：**\n",
      "\n",
      "“您好，根據我們全面的揮杆分析，您的揮杆動作與教練大致相同，請繼續保持。然而您的揮杆有幾個地方可以加強。在您的P4頂點轉換，桿頭頂點過低，腰部轉動過度，這可能導致下桿時力量過大，產生右拉右曲球的傾向，請繼續保持，然而您的揮杆有幾個地方可以加強。在您的P4頂點轉換，請嘗試調整您的腰部轉動，保持桿頭位置穩定，並在轉動時保持身體的平衡，這將有助於控制力量和方向。同時，在P7擊球時，請注意保持左手腕固定，並確保擊球點位於球的正中央，這將有助於修正球路偏左。”\n",
      "\n",
      "**具體調整建議：**\n",
      "\n",
      "“首先，讓我們來看看P4頂點轉換。您現在的桿頭頂點過低，這會讓下桿時的力量過大，導致球路偏右。試著在轉動身體的時候，保持桿頭位置穩定，就像一個穩定的支點一樣。想像一下，您正在用一個球棒支撐住一個小小的球，這樣可以幫助您更好地控制力量。同時，請注意保持身體的平衡，不要過度轉動腰部，這樣可以避免力量的失控。\n",
      "\n",
      "接下來，讓我們來調整P7擊球。您現在的左手腕沒有固定，這會導致球路偏左。試著在擊球前，用您的手腕的力量來固定住球杆，就像一個鎖住的門一樣。確保擊球點位於球的正中央，這樣可以讓球路更加穩定。此外，在擊球時，請保持身體的穩定，不要過度移動，這樣可以提高擊球的準確性。”\n",
      "\n",
      "希望這些建議對您有所幫助！\n",
      "好的，我將根據您提供的資訊進行分析，並提供詳細的口語化動作建議。\n",
      "\n",
      "**綜合分析結果：**\n",
      "\n",
      "在我們全面的揮杆分析中，您的揮杆動作與教練大致相同，請繼續保持。然而您的揮杆有幾個地方可以加強。在您的P2、P4頂點/轉換階段，考慮調整您的手腕，試著保持手腕的固定，並注意擊球點的位置，這將有助於減少球路偏離。\n",
      "\n",
      "**具體建議 (P2 & P4)：**\n",
      "\n",
      "“您好，觀察您的揮杆，在P2階段，我注意到您的手腕似乎有些過度外展，這可能會導致球路偏左。請嘗試在P2階段，將手腕保持固定，不要過度彎曲或外展，讓手腕與手掌形成一個更緊密的連接。同時，注意擊球點的位置，確保球桿面與擊球點對齊。\n",
      "\n",
      "接著，在P4頂點/轉換階段，同樣也觀察到手腕的調整，請在P4階段，盡量保持手腕的固定，避免過度彎曲。此外，請注意身體的旋轉，不要過度向前傾，保持身體的平衡。 讓肩膀和身體的轉動自然地配合，而不是過度用力。 這樣可以幫助您更好地控制球桿面，並產生更穩定的擊球力量。”\n",
      "\n",
      "**球路類型：** Pull Hook 左拉左曲球\n",
      "\n",
      "**原因：** 上桿(P2~3)時，角度過於陡峭，桿面關閉，擊球點位於球的外側，手腕繼續彎曲未保持向前。\n",
      "\n",
      "希望這些建議對您有所幫助！如果您有任何其他問題，請隨時提出。\n",
      "好的，我將根據您提供的資訊進行分析，並提供詳細的口語化動作建議。\n",
      "\n",
      "**分析結果：**\n",
      "\n",
      "綜合觀察正面和側面的圖片，以及擊球數據，學員在P7擊球時，明顯存在桿面開放的傾向，這與回饋規則中的“Push Slice 左拉右曲球” (球路類型：左拉右曲球) 相符。ClubAngleFace為7.36，遠大於0，表明球桿面在擊球時存在明顯的開放狀態。\n",
      "\n",
      "在正面圖片中，P2~3階段，肩膀轉動過於內側，可能導致上桿時桿面角度偏向內側。在側邊圖片中，P5~6階段，左手腕過度外展，肩關節伸展抬起，可能導致下桿時球路偏右。\n",
      "\n",
      "**整合分析建議：**\n",
      "\n",
      "“大家好，根據我們全面的揮杆分析，您的揮杆動作與教練大致相同，請繼續保持。然而您的揮杆有幾個地方可以加強。在您的P7擊球階段，您明顯存在桿面開放的傾向，這會導致球路偏右。\n",
      "\n",
      "首先，讓我們從上桿開始，在P2~3階段，請注意調整肩膀的轉動方向，讓肩膀往外側轉動，避免過度內側，這樣可以幫助您保持桿面角度的穩定。同時，在擊球時，請保持左手腕的固定，不要過度彎曲，這樣可以確保擊球點的準確性。\n",
      "\n",
      "此外，在P5~6階段，您左手腕過度外展，肩關節伸展抬起，這也可能導致下桿時球路偏右。建議您在下桿時，嘗試將左手臂打直，並保持左手腕的固定，同時注意協調身體的旋轉，這樣可以幫助您更好地控制球路。\n",
      "\n",
      "總之，請您在練習中多加注意這些細節，並保持放鬆的狀態，相信您的揮杆會越來越穩定，球路也會越來越準確。”\n",
      "{{\n",
      "        \"球路\": \"Push Slice\",\n",
      "         \"原因\": \"從圖片和數據分析來看，學員在P7擊球時，桿面明顯開放，擊球點位於球的內側，且手腕未固定，導致球路偏右。此外，ClubAngleFace為8.779，表明桿面與球桿路徑存在明顯偏差，這也是造成Push Slice的主要原因。\",\n",
      "         \"建議\": \"在P7擊球時，請特別注意手腕的固定，保持手腕的穩定，避免過早彎曲或過度外展。同時，在擊球前，意識到桿面的開放，並在揮桿過程中，盡量維持桿面與球桿路徑的對齊。此外，可以嘗試在P5~6下桿時，稍微調整身體的重心，以幫助控制桿面，避免過度開球。建議多做一些擊球練習，專注於手腕的控制和桿面的調整，以改善Push Slice的狀況。\"\n",
      "}}\n"
     ]
    }
   ],
   "execution_count": 29
  },
  {
   "metadata": {
    "ExecuteTime": {
     "end_time": "2025-04-08T07:18:52.397824600Z",
     "start_time": "2025-04-03T04:51:08.629534Z"
    }
   },
   "cell_type": "code",
   "source": "result_df",
   "id": "be0eac8bf50e0e3f",
   "outputs": [
    {
     "data": {
      "text/plain": [
       "      num                                             answer\n",
       "0  186382  ```json\\n{\\n\"球路\":\"左拉左曲球\",\\n\"原因\":\"從圖片分析來看，在P2的桿...\n",
       "0  186387  ```json\\n{\\n\"球路\":\"小右曲球\",\\n\"原因\":\"從圖片分析來看，在P2的擊球...\n",
       "0  186410  ```json\\n{\\n\"球路\":\"PushSlice右拉右曲球\",\\n\"原因\":\"從圖片分...\n",
       "0  186416  ```json\\n{\\n\"球路\":\"左拉左曲球\",\\n\"原因\":\"從正面圖片分析，學員在P2...\n",
       "0  198514  ```json\\n{\\n\"球路\":\"PushSlice右拉右曲球\",\\n\"原因\":\"從正面和...\n",
       "0  199353  ```json\\n{\\n\"球路\":\"PushSlice右拉右曲球\",\\n\"原因\":\"從圖片分..."
      ],
      "text/html": [
       "<div>\n",
       "<style scoped>\n",
       "    .dataframe tbody tr th:only-of-type {\n",
       "        vertical-align: middle;\n",
       "    }\n",
       "\n",
       "    .dataframe tbody tr th {\n",
       "        vertical-align: top;\n",
       "    }\n",
       "\n",
       "    .dataframe thead th {\n",
       "        text-align: right;\n",
       "    }\n",
       "</style>\n",
       "<table border=\"1\" class=\"dataframe\">\n",
       "  <thead>\n",
       "    <tr style=\"text-align: right;\">\n",
       "      <th></th>\n",
       "      <th>num</th>\n",
       "      <th>answer</th>\n",
       "    </tr>\n",
       "  </thead>\n",
       "  <tbody>\n",
       "    <tr>\n",
       "      <th>0</th>\n",
       "      <td>186382</td>\n",
       "      <td>```json\\n{\\n\"球路\":\"左拉左曲球\",\\n\"原因\":\"從圖片分析來看，在P2的桿...</td>\n",
       "    </tr>\n",
       "    <tr>\n",
       "      <th>0</th>\n",
       "      <td>186387</td>\n",
       "      <td>```json\\n{\\n\"球路\":\"小右曲球\",\\n\"原因\":\"從圖片分析來看，在P2的擊球...</td>\n",
       "    </tr>\n",
       "    <tr>\n",
       "      <th>0</th>\n",
       "      <td>186410</td>\n",
       "      <td>```json\\n{\\n\"球路\":\"PushSlice右拉右曲球\",\\n\"原因\":\"從圖片分...</td>\n",
       "    </tr>\n",
       "    <tr>\n",
       "      <th>0</th>\n",
       "      <td>186416</td>\n",
       "      <td>```json\\n{\\n\"球路\":\"左拉左曲球\",\\n\"原因\":\"從正面圖片分析，學員在P2...</td>\n",
       "    </tr>\n",
       "    <tr>\n",
       "      <th>0</th>\n",
       "      <td>198514</td>\n",
       "      <td>```json\\n{\\n\"球路\":\"PushSlice右拉右曲球\",\\n\"原因\":\"從正面和...</td>\n",
       "    </tr>\n",
       "    <tr>\n",
       "      <th>0</th>\n",
       "      <td>199353</td>\n",
       "      <td>```json\\n{\\n\"球路\":\"PushSlice右拉右曲球\",\\n\"原因\":\"從圖片分...</td>\n",
       "    </tr>\n",
       "  </tbody>\n",
       "</table>\n",
       "</div>"
      ]
     },
     "execution_count": 15,
     "metadata": {},
     "output_type": "execute_result"
    }
   ],
   "execution_count": 15
  },
  {
   "metadata": {
    "ExecuteTime": {
     "end_time": "2025-04-08T07:18:52.398828Z",
     "start_time": "2025-04-03T04:51:08.714157Z"
    }
   },
   "cell_type": "code",
   "source": "result_df.to_csv(file_locate+\"/experiment_result/\"+\"test_\"+model_id+\"_output_result.csv\", index=False, encoding=\"utf-8\")",
   "id": "16ea98d6b97f9108",
   "outputs": [],
   "execution_count": 16
  },
  {
   "metadata": {},
   "cell_type": "code",
   "outputs": [],
   "execution_count": null,
   "source": "",
   "id": "9870086b3fa2c0fd"
  }
 ],
 "metadata": {
  "kernelspec": {
   "display_name": "Python 3",
   "language": "python",
   "name": "python3"
  },
  "language_info": {
   "codemirror_mode": {
    "name": "ipython",
    "version": 2
   },
   "file_extension": ".py",
   "mimetype": "text/x-python",
   "name": "python",
   "nbconvert_exporter": "python",
   "pygments_lexer": "ipython2",
   "version": "2.7.6"
  }
 },
 "nbformat": 4,
 "nbformat_minor": 5
}
